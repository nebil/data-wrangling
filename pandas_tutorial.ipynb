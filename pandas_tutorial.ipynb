{
 "cells": [
  {
   "cell_type": "markdown",
   "metadata": {},
   "source": [
    "## Objetivos\n",
    "\n",
    "Esta ayudantía tiene los siguientes objetivos:\n",
    "- aprender conceptos básicos sobre _data wrangling_,\n",
    "- conocer diferentes formatos: CSV, JSON, etc.\n",
    "- generar _datasets_ artificiales,\n",
    "- un poco de matplotlib.\n",
    "\n",
    "## Advertencias\n",
    "\n",
    "El siguiente tutorial asume que el estudiante viene con conocimientos de Python.\n",
    "\n",
    "\n",
    "## Outline\n",
    "\n",
    "- `Jupyter`\n",
    "  - _Overview_ general\n",
    "  - Atajos\n",
    "- `pandas`\n",
    "  - Principales funciones\n",
    "  - Algo más avanzado\n",
    "- `matplotlib`\n",
    "  - Funciones básicas\n"
   ]
  },
  {
   "cell_type": "markdown",
   "metadata": {},
   "source": [
    "# `Jupyter`\n",
    "\n",
    "Antes de todo, haremos una rápido paseo por Jupyter Notebook,  \n",
    "que es la herramienta que utilizaremos para este tutorial.\n",
    "\n",
    "## ¿Qué es Jupyter Notebook?\n",
    "\n",
    "Es una plataforma web para elaborar documentos escritos en Python.  \n",
    "\n",
    "- Se pueden exportar documentos.\n",
    "\n",
    "Para los que hicieron _Cálculo_, pueden pensar que Jupyter Notebook, en palabras simples, es _Maple para Python_.\n",
    "\n",
    "## Celdas\n",
    "\n",
    "Hay dos tipos principales de celdas: para escribir código en **Python** y para escribir _código_ en **Markdown**.  \n",
    "Si es que no conoces la sintaxis de Markdown, revisa este [tutorial](\n",
    "https://guides.github.com/features/mastering-markdown/).\n",
    "\n",
    "La idea es ir ejecutando código en Python y luego explicarlo mediante el uso de Markdown.  \n",
    "Esto nos permitirá generar una suerte de informe de nuestro trabajo."
   ]
  },
  {
   "cell_type": "markdown",
   "metadata": {},
   "source": [
    "## Atajos\n",
    "\n",
    "Utilizar el teclado en vez del _mouse_ (o _mousepad_, o _touchpad_) ofrece una gran eficiencia.  \n",
    "A continuación, dejaré una lista de los principales atajos.\n",
    "\n",
    "### Modos\n",
    "\n",
    "Pero antes, es interesante saber que existen dos modos: _command_.\n",
    "\n",
    "#### Modo `command`\n",
    "\n",
    "- Para correr una celda: **`Ctrl+Enter`**.\n",
    "- Para correr una celda y pasar a la siguiente: **`Shift+Enter`**.\n",
    "- Para correr una celda y crear una nueva abajo: **`Alt+Enter`**.\n",
    "\n",
    "#### Modo `edit`\n",
    "\n",
    "### ¿Quieres más atajos?\n",
    "\n",
    "Para saber más, puedes apretar **`H`** (en modo **`command`**) para encontrar más información."
   ]
  },
  {
   "cell_type": "markdown",
   "metadata": {},
   "source": [
    "# Pandas\n",
    "\n",
    "## Introducción\n",
    "\n",
    "`pandas` es una librería construida sobre `numpy` (abreviación de _numerical Python_)  \n",
    "que es la librería angular para la programación científica en Python.\n",
    "\n",
    "## ¿Por qué usar `pandas`?\n",
    "\n",
    "Si bien, podríamos guardar datos en las estructuras ofrecidas en Python —como listas, tuplas o diccionarios—,  \n",
    "esto no es eficiente.\n",
    "\n",
    "Importamos la librería `pandas`."
   ]
  },
  {
   "cell_type": "code",
   "execution_count": 14,
   "metadata": {
    "collapsed": true
   },
   "outputs": [],
   "source": [
    "import pandas\n",
    "from IPython.display import display"
   ]
  },
  {
   "cell_type": "markdown",
   "metadata": {},
   "source": [
    "En `pandas`, existen diferentes estructuras de datos.  \n",
    "Sin embargo, para esta ayudantía, veremos las dos principales: _series_ y _dataframes_.\n",
    "\n",
    "### _Series_\n",
    "\n",
    "Un _series_ puede ser pensado como una columna de datos.  \n",
    "Lo más común, sería utilizar un _series_ para guardar observaciones sobre una variable.  \n",
    "Por ejemplo, los diámetros de planetas del sistema solar."
   ]
  },
  {
   "cell_type": "code",
   "execution_count": 73,
   "metadata": {
    "collapsed": false
   },
   "outputs": [],
   "source": [
    "diameter_list = (4879, 12104, 12756, 6792, 142984, 120536, 51118, 49528, 2370)\n",
    "diameter_series = pandas.Series(diameter_list)"
   ]
  },
  {
   "cell_type": "markdown",
   "metadata": {},
   "source": [
    "Imprimimamos esta serie para ver qué obtenemos."
   ]
  },
  {
   "cell_type": "code",
   "execution_count": 74,
   "metadata": {
    "collapsed": false
   },
   "outputs": [
    {
     "data": {
      "text/plain": [
       "0      4879\n",
       "1     12104\n",
       "2     12756\n",
       "3      6792\n",
       "4    142984\n",
       "5    120536\n",
       "6     51118\n",
       "7     49528\n",
       "8      2370\n",
       "dtype: int64"
      ]
     },
     "execution_count": 74,
     "metadata": {},
     "output_type": "execute_result"
    }
   ],
   "source": [
    "diameter_series"
   ]
  },
  {
   "cell_type": "markdown",
   "metadata": {},
   "source": [
    "Vemos que ahora tenemos una columna con los datos.  \n",
    "Además, aparece una columna en la izquierda con los números del 0 al 8.  \n",
    "Estos números son los índices del _series_.\n",
    "Con ellos, podemos acceder a los elementos."
   ]
  },
  {
   "cell_type": "code",
   "execution_count": 75,
   "metadata": {
    "collapsed": false
   },
   "outputs": [
    {
     "name": "stdout",
     "output_type": "stream",
     "text": [
      "El primer elemento es: 4879.\n"
     ]
    }
   ],
   "source": [
    "print(\"El primer elemento es: {}.\".format(diameter_series[0]))"
   ]
  },
  {
   "cell_type": "markdown",
   "metadata": {},
   "source": [
    "Ahora, sería interesante poder los nombres de los planetas junto a su diametro.  \n",
    "Las llaves no tienen por qué ser necesariamente enteros. Eso es el valor por _defecto_.  \n",
    "Veamos cómo podemos asignar nuestros propios índices."
   ]
  },
  {
   "cell_type": "code",
   "execution_count": 76,
   "metadata": {
    "collapsed": false
   },
   "outputs": [],
   "source": [
    "# Primero, definimos los nombres en una lista.\n",
    "# Naturalmente, deben estar en el mismo orden que los diametros.\n",
    "planet_names = ('Mercurio', 'Venus', 'Tierra', 'Marte', 'Júpiter', 'Saturno', 'Urano', 'Neptuno', 'Plutón')\n",
    "\n",
    "# Ahora, lo asignamos como índices.\n",
    "diameter_series.index = planet_names"
   ]
  },
  {
   "cell_type": "markdown",
   "metadata": {},
   "source": [
    "Veamos qué obtuvimos."
   ]
  },
  {
   "cell_type": "code",
   "execution_count": 77,
   "metadata": {
    "collapsed": false
   },
   "outputs": [
    {
     "data": {
      "text/plain": [
       "Mercurio      4879\n",
       "Venus        12104\n",
       "Tierra       12756\n",
       "Marte         6792\n",
       "Júpiter     142984\n",
       "Saturno     120536\n",
       "Urano        51118\n",
       "Neptuno      49528\n",
       "Plutón        2370\n",
       "dtype: int64"
      ]
     },
     "execution_count": 77,
     "metadata": {},
     "output_type": "execute_result"
    }
   ],
   "source": [
    "diameter_series"
   ]
  },
  {
   "cell_type": "markdown",
   "metadata": {},
   "source": [
    "Muy bien.  \n",
    "Ahora podemos llamarlos directamente por el nombre."
   ]
  },
  {
   "cell_type": "code",
   "execution_count": 78,
   "metadata": {
    "collapsed": false
   },
   "outputs": [
    {
     "data": {
      "text/plain": [
       "4879"
      ]
     },
     "execution_count": 78,
     "metadata": {},
     "output_type": "execute_result"
    }
   ],
   "source": [
    "diameter_series['Mercurio']"
   ]
  },
  {
   "cell_type": "markdown",
   "metadata": {},
   "source": [
    "Este paso de crear el _series_ y asignarle los índices puede ser logrado de diferentes formas.  \n",
    "Veamos algunas de ellas."
   ]
  },
  {
   "cell_type": "code",
   "execution_count": 79,
   "metadata": {
    "collapsed": false
   },
   "outputs": [
    {
     "data": {
      "text/plain": [
       "Mercurio      4879\n",
       "Venus        12104\n",
       "Tierra       12756\n",
       "Marte         6792\n",
       "Júpiter     142984\n",
       "Saturno     120536\n",
       "Urano        51118\n",
       "Neptuno      49528\n",
       "Plutón        2370\n",
       "dtype: int64"
      ]
     },
     "execution_count": 79,
     "metadata": {},
     "output_type": "execute_result"
    }
   ],
   "source": [
    "# a) Entregando un argumento al parámetro 'index'.\n",
    "diameter_series = pandas.Series(diameter_list, index=planet_names)\n",
    "diameter_series"
   ]
  },
  {
   "cell_type": "code",
   "execution_count": 80,
   "metadata": {
    "collapsed": false
   },
   "outputs": [
    {
     "name": "stdout",
     "output_type": "stream",
     "text": [
      "{'Venus': 12104, 'Júpiter': 142984, 'Neptuno': 49528, 'Marte': 6792, 'Mercurio': 4879, 'Tierra': 12756, 'Plutón': 2370, 'Urano': 51118, 'Saturno': 120536}\n"
     ]
    },
    {
     "data": {
      "text/plain": [
       "Júpiter     142984\n",
       "Marte         6792\n",
       "Mercurio      4879\n",
       "Neptuno      49528\n",
       "Plutón        2370\n",
       "Saturno     120536\n",
       "Tierra       12756\n",
       "Urano        51118\n",
       "Venus        12104\n",
       "dtype: int64"
      ]
     },
     "execution_count": 80,
     "metadata": {},
     "output_type": "execute_result"
    }
   ],
   "source": [
    "# b) Entregando directamente un diccionario.\n",
    "planet_zip = zip(planet_names, diameter_list)  # la función 'zip' junta dos listas en una.\n",
    "planet_dict = dict(planet_zip)\n",
    "print(planet_dict)\n",
    "\n",
    "# Y ahora, entregamos el diccionario como argumento.\n",
    "# Ojo: la diferencia de este método es que como los diccionarios en Python no mantienen un orden,\n",
    "# ==== entonces el _series_ aparece desordenado —de todas formas, los valores son correctos.\n",
    "diameter_series = pandas.Series(planet_dict)\n",
    "diameter_series"
   ]
  },
  {
   "cell_type": "markdown",
   "metadata": {},
   "source": [
    "Bueno, hasta ahora, el _series_ no ha sido más que una implementación diferente de `dict` para Python.  \n",
    "Veamos qué podemos hacer con los valores."
   ]
  },
  {
   "cell_type": "markdown",
   "metadata": {},
   "source": [
    "## Seleccionar datos"
   ]
  },
  {
   "cell_type": "markdown",
   "metadata": {},
   "source": [
    "El modo es muy similar al de Python."
   ]
  },
  {
   "cell_type": "code",
   "execution_count": 88,
   "metadata": {
    "collapsed": false
   },
   "outputs": [
    {
     "data": {
      "text/plain": [
       "Júpiter     142984\n",
       "Marte         6792\n",
       "Mercurio      4879\n",
       "dtype: int64"
      ]
     },
     "execution_count": 88,
     "metadata": {},
     "output_type": "execute_result"
    }
   ],
   "source": [
    "diameter_series[0:3]"
   ]
  },
  {
   "cell_type": "markdown",
   "metadata": {},
   "source": [
    "## Principales funciones\n",
    "\n",
    "Veremos las siguientes funciones:\n",
    "- `head`,\n",
    "- `tail`,\n",
    "- `count`,\n",
    "- `mean`,\n",
    "- `median`,\n",
    "- `describe`,\n",
    "- `sum`,\n",
    "- `sort_values`."
   ]
  },
  {
   "cell_type": "markdown",
   "metadata": {},
   "source": [
    "Obtengamos los primeros tres datos con `head`."
   ]
  },
  {
   "cell_type": "code",
   "execution_count": 172,
   "metadata": {
    "collapsed": false
   },
   "outputs": [
    {
     "data": {
      "text/plain": [
       "Júpiter     1.429840e+14\n",
       "Marte       6.792000e+12\n",
       "Mercurio    4.879000e+12\n",
       "dtype: float64"
      ]
     },
     "execution_count": 172,
     "metadata": {},
     "output_type": "execute_result"
    }
   ],
   "source": [
    "diameter_series.head(3)"
   ]
  },
  {
   "cell_type": "markdown",
   "metadata": {},
   "source": [
    "Obtengamos los últimos dos."
   ]
  },
  {
   "cell_type": "code",
   "execution_count": 171,
   "metadata": {
    "collapsed": false
   },
   "outputs": [
    {
     "data": {
      "text/plain": [
       "Urano    5.111800e+13\n",
       "Venus    1.210400e+13\n",
       "dtype: float64"
      ]
     },
     "execution_count": 171,
     "metadata": {},
     "output_type": "execute_result"
    }
   ],
   "source": [
    "diameter_series.tail(2)"
   ]
  },
  {
   "cell_type": "markdown",
   "metadata": {},
   "source": [
    "**Nota:** Por defecto, `head` y `tail` entregan cinco datos si es que no reciben parámetros."
   ]
  },
  {
   "cell_type": "code",
   "execution_count": 173,
   "metadata": {
    "collapsed": false
   },
   "outputs": [
    {
     "data": {
      "text/plain": [
       "Júpiter     1.429840e+14\n",
       "Marte       6.792000e+12\n",
       "Mercurio    4.879000e+12\n",
       "Neptuno     4.952800e+13\n",
       "Plutón      2.370000e+12\n",
       "dtype: float64"
      ]
     },
     "execution_count": 173,
     "metadata": {},
     "output_type": "execute_result"
    }
   ],
   "source": [
    "diameter_series.head()"
   ]
  },
  {
   "cell_type": "code",
   "execution_count": 20,
   "metadata": {
    "collapsed": false
   },
   "outputs": [
    {
     "name": "stdout",
     "output_type": "stream",
     "text": [
      "Tenemos un total de 9 planetas.\n"
     ]
    }
   ],
   "source": [
    "count = diameter_series.count()\n",
    "print(\"Tenemos un total de {} planetas.\".format(count))"
   ]
  },
  {
   "cell_type": "code",
   "execution_count": 33,
   "metadata": {
    "collapsed": false
   },
   "outputs": [
    {
     "name": "stdout",
     "output_type": "stream",
     "text": [
      "La media es de 44,785.22 kilómetros.\n"
     ]
    }
   ],
   "source": [
    "mean = diameter_series.mean()\n",
    "print(\"La media es de {:,.2f} kilómetros.\".format(mean))\n",
    "# ':,.2f' es un formato para ofrecer separador de miles\n",
    "# y una precisión de dos decimales."
   ]
  },
  {
   "cell_type": "code",
   "execution_count": 37,
   "metadata": {
    "collapsed": false
   },
   "outputs": [
    {
     "name": "stdout",
     "output_type": "stream",
     "text": [
      "La media es de 12,756.00 kilómetros.\n"
     ]
    }
   ],
   "source": [
    "median = diameter_series.median()\n",
    "print(\"La media es de {:,.2f} kilómetros.\".format(median))"
   ]
  },
  {
   "cell_type": "markdown",
   "metadata": {},
   "source": [
    "O si queremos un resumen ejecutivo..."
   ]
  },
  {
   "cell_type": "code",
   "execution_count": 81,
   "metadata": {
    "collapsed": false
   },
   "outputs": [
    {
     "data": {
      "text/plain": [
       "count         9.000000\n",
       "mean      44785.222222\n",
       "std       52882.835414\n",
       "min        2370.000000\n",
       "25%        6792.000000\n",
       "50%       12756.000000\n",
       "75%       51118.000000\n",
       "max      142984.000000\n",
       "dtype: float64"
      ]
     },
     "execution_count": 81,
     "metadata": {},
     "output_type": "execute_result"
    }
   ],
   "source": [
    "diameter_series.describe()"
   ]
  },
  {
   "cell_type": "code",
   "execution_count": 174,
   "metadata": {
    "collapsed": false
   },
   "outputs": [
    {
     "data": {
      "text/plain": [
       "403067000000000.0"
      ]
     },
     "execution_count": 174,
     "metadata": {},
     "output_type": "execute_result"
    }
   ],
   "source": [
    "diameter_series.sum()"
   ]
  },
  {
   "cell_type": "markdown",
   "metadata": {},
   "source": [
    "## Operaciones\n",
    "\n",
    "Es posible aplicar operaciones _element-wise_ en un _series_.  \n",
    "En otras palabras, no es necesario utilizar un `for` para modificar todos los valores.  \n",
    "Veamos algunos ejemplos..."
   ]
  },
  {
   "cell_type": "code",
   "execution_count": 104,
   "metadata": {
    "collapsed": false
   },
   "outputs": [
    {
     "data": {
      "text/plain": [
       "Júpiter     7.149200e+10\n",
       "Marte       3.396000e+09\n",
       "Mercurio    2.439500e+09\n",
       "Neptuno     2.476400e+10\n",
       "Plutón      1.185000e+09\n",
       "Saturno     6.026800e+10\n",
       "Tierra      6.378000e+09\n",
       "Urano       2.555900e+10\n",
       "Venus       6.052000e+09\n",
       "dtype: float64"
      ]
     },
     "execution_count": 104,
     "metadata": {},
     "output_type": "execute_result"
    }
   ],
   "source": [
    "diameter_series * 1000"
   ]
  },
  {
   "cell_type": "markdown",
   "metadata": {},
   "source": [
    "Y casi como si fuera magia, todos los valores pasaron de kilómetros a metros.  \n",
    "**Ojo:** esta operación no ocurre _in-place_; luego, el _series_ original sigue intacto."
   ]
  },
  {
   "cell_type": "code",
   "execution_count": 108,
   "metadata": {
    "collapsed": false
   },
   "outputs": [
    {
     "data": {
      "text/plain": [
       "Júpiter     1.429840e+14\n",
       "Marte       6.792000e+12\n",
       "Mercurio    4.879000e+12\n",
       "Neptuno     4.952800e+13\n",
       "Plutón      2.370000e+12\n",
       "Saturno     1.205360e+14\n",
       "Tierra      1.275600e+13\n",
       "Urano       5.111800e+13\n",
       "Venus       1.210400e+13\n",
       "dtype: float64"
      ]
     },
     "execution_count": 108,
     "metadata": {},
     "output_type": "execute_result"
    }
   ],
   "source": [
    "diameter_series"
   ]
  },
  {
   "cell_type": "markdown",
   "metadata": {},
   "source": [
    "Luego, si quisiéramos modificarlo _in place_, debemos asignarlo nuevamente."
   ]
  },
  {
   "cell_type": "code",
   "execution_count": 107,
   "metadata": {
    "collapsed": false
   },
   "outputs": [],
   "source": [
    "diameter_series *= 1000\n",
    "# que es lo mismo que...\n",
    "# diameter_series = diameter_series * 1000"
   ]
  },
  {
   "cell_type": "markdown",
   "metadata": {},
   "source": [
    "Veamos el _ratio_ con respecto a nuestro actual hogar."
   ]
  },
  {
   "cell_type": "code",
   "execution_count": 115,
   "metadata": {
    "collapsed": false
   },
   "outputs": [
    {
     "data": {
      "text/plain": [
       "Júpiter     11.209156\n",
       "Marte        0.532455\n",
       "Mercurio     0.382487\n",
       "Neptuno      3.882722\n",
       "Plutón       0.185795\n",
       "Saturno      9.449357\n",
       "Tierra       1.000000\n",
       "Urano        4.007369\n",
       "Venus        0.948887\n",
       "dtype: float64"
      ]
     },
     "execution_count": 115,
     "metadata": {},
     "output_type": "execute_result"
    }
   ],
   "source": [
    "diameter_series / diameter_series['Tierra']"
   ]
  },
  {
   "cell_type": "markdown",
   "metadata": {},
   "source": [
    "Ahora calculemos los volúmenes de los planetas.  \n",
    "En Cálculo 2 (?), aprendimos que la fórmula del volumen es...\n",
    "$$ V = 2 \\pi r^2 $$\n",
    "(Aunque, en Cálculo 3, vimos que se podía obtener directamente con el diámetro.)"
   ]
  },
  {
   "cell_type": "code",
   "execution_count": 113,
   "metadata": {
    "collapsed": false
   },
   "outputs": [
    {
     "data": {
      "text/plain": [
       "Júpiter     3.211403e+28\n",
       "Marte       7.246282e+25\n",
       "Mercurio    3.739224e+25\n",
       "Neptuno     3.853199e+27\n",
       "Plutón      8.823006e+24\n",
       "Saturno     2.282199e+28\n",
       "Tierra      2.555930e+26\n",
       "Urano       4.104569e+27\n",
       "Venus       2.301324e+26\n",
       "dtype: float64"
      ]
     },
     "execution_count": 113,
     "metadata": {},
     "output_type": "execute_result"
    }
   ],
   "source": [
    "import numpy\n",
    "volume_series = 2 * numpy.pi * numpy.power(diameter_series / 2, 2)\n",
    "volume_series"
   ]
  },
  {
   "cell_type": "code",
   "execution_count": 102,
   "metadata": {
    "collapsed": false
   },
   "outputs": [
    {
     "data": {
      "text/plain": [
       "Júpiter     False\n",
       "Marte        True\n",
       "Mercurio     True\n",
       "Neptuno     False\n",
       "Plutón       True\n",
       "Saturno     False\n",
       "Tierra       True\n",
       "Urano       False\n",
       "Venus        True\n",
       "dtype: bool"
      ]
     },
     "execution_count": 102,
     "metadata": {},
     "output_type": "execute_result"
    }
   ],
   "source": [
    "# acá nos dirá si es que cada valor es menor (o no) al promedio de la serie.\n",
    "diameter_series < diameter_series.mean()"
   ]
  },
  {
   "cell_type": "markdown",
   "metadata": {},
   "source": [
    "Ahora, ¿cómo hacemos si es que queremos hacer algo un poco más complejo?  \n",
    "Digamos que queremos ver si es que los diametros son números primos.  \n",
    "(No, no tiene ningún sentido.)"
   ]
  },
  {
   "cell_type": "code",
   "execution_count": 144,
   "metadata": {
    "collapsed": false
   },
   "outputs": [
    {
     "data": {
      "text/plain": [
       "False"
      ]
     },
     "execution_count": 144,
     "metadata": {},
     "output_type": "execute_result"
    }
   ],
   "source": [
    "def is_prime(number):\n",
    "    \"\"\"\n",
    "    Dice si 'number' es primo o no.\n",
    "    \"\"\"\n",
    "    \n",
    "    # primero, sacamos a los números pares.\n",
    "    if number % 2 == 0 and number > 2: \n",
    "        return False\n",
    "    \n",
    "    # luego, iteramos\n",
    "    for n in range(3, math.ceil(number ** (1/2)), 2):\n",
    "        if number % n == 0:\n",
    "            return False\n",
    "    return True\n",
    "\n",
    "is_prime(42)"
   ]
  },
  {
   "cell_type": "markdown",
   "metadata": {},
   "source": [
    "Intentemos aplicar la función directamente."
   ]
  },
  {
   "cell_type": "code",
   "execution_count": 128,
   "metadata": {
    "collapsed": false
   },
   "outputs": [
    {
     "ename": "ValueError",
     "evalue": "The truth value of a Series is ambiguous. Use a.empty, a.bool(), a.item(), a.any() or a.all().",
     "output_type": "error",
     "traceback": [
      "\u001b[0;31m---------------------------------------------------------------------------\u001b[0m",
      "\u001b[0;31mValueError\u001b[0m                                Traceback (most recent call last)",
      "\u001b[0;32m<ipython-input-128-81ec153bbb8b>\u001b[0m in \u001b[0;36m<module>\u001b[0;34m()\u001b[0m\n\u001b[0;32m----> 1\u001b[0;31m \u001b[0mis_prime\u001b[0m\u001b[0;34m(\u001b[0m\u001b[0mdiameter_series\u001b[0m\u001b[0;34m)\u001b[0m\u001b[0;34m\u001b[0m\u001b[0m\n\u001b[0m",
      "\u001b[0;32m<ipython-input-127-923774df2c13>\u001b[0m in \u001b[0;36mis_prime\u001b[0;34m(number)\u001b[0m\n\u001b[1;32m      5\u001b[0m \u001b[0;34m\u001b[0m\u001b[0m\n\u001b[1;32m      6\u001b[0m     \u001b[0;31m# primero, sacamos a los números pares.\u001b[0m\u001b[0;34m\u001b[0m\u001b[0;34m\u001b[0m\u001b[0m\n\u001b[0;32m----> 7\u001b[0;31m     \u001b[0;32mif\u001b[0m \u001b[0mnumber\u001b[0m \u001b[0;34m%\u001b[0m \u001b[0;36m2\u001b[0m \u001b[0;34m==\u001b[0m \u001b[0;36m0\u001b[0m \u001b[0;32mand\u001b[0m \u001b[0mnumber\u001b[0m \u001b[0;34m>\u001b[0m \u001b[0;36m2\u001b[0m\u001b[0;34m:\u001b[0m\u001b[0;34m\u001b[0m\u001b[0m\n\u001b[0m\u001b[1;32m      8\u001b[0m         \u001b[0;32mreturn\u001b[0m \u001b[0;32mFalse\u001b[0m\u001b[0;34m\u001b[0m\u001b[0m\n\u001b[1;32m      9\u001b[0m \u001b[0;34m\u001b[0m\u001b[0m\n",
      "\u001b[0;32m/home/nebil/Universidad/IIC2XYZ/ayd/venv/lib/python3.4/site-packages/pandas/core/generic.py\u001b[0m in \u001b[0;36m__nonzero__\u001b[0;34m(self)\u001b[0m\n\u001b[1;32m    915\u001b[0m         raise ValueError(\"The truth value of a {0} is ambiguous. \"\n\u001b[1;32m    916\u001b[0m                          \u001b[0;34m\"Use a.empty, a.bool(), a.item(), a.any() or a.all().\"\u001b[0m\u001b[0;34m\u001b[0m\u001b[0m\n\u001b[0;32m--> 917\u001b[0;31m                          .format(self.__class__.__name__))\n\u001b[0m\u001b[1;32m    918\u001b[0m \u001b[0;34m\u001b[0m\u001b[0m\n\u001b[1;32m    919\u001b[0m     \u001b[0m__bool__\u001b[0m \u001b[0;34m=\u001b[0m \u001b[0m__nonzero__\u001b[0m\u001b[0;34m\u001b[0m\u001b[0m\n",
      "\u001b[0;31mValueError\u001b[0m: The truth value of a Series is ambiguous. Use a.empty, a.bool(), a.item(), a.any() or a.all()."
     ]
    }
   ],
   "source": [
    "is_prime(diameter_series)"
   ]
  },
  {
   "cell_type": "markdown",
   "metadata": {},
   "source": [
    "Vemos que nos tira error, porque nuestra función `is_prime` está esperando un `int` y no un _series_.  \n",
    "Sin embargo, hay otra forma: la función `apply`."
   ]
  },
  {
   "cell_type": "code",
   "execution_count": 132,
   "metadata": {
    "collapsed": false
   },
   "outputs": [
    {
     "data": {
      "text/plain": [
       "Júpiter     False\n",
       "Marte       False\n",
       "Mercurio    False\n",
       "Neptuno     False\n",
       "Plutón      False\n",
       "Saturno     False\n",
       "Tierra      False\n",
       "Urano       False\n",
       "Venus       False\n",
       "dtype: bool"
      ]
     },
     "execution_count": 132,
     "metadata": {},
     "output_type": "execute_result"
    }
   ],
   "source": [
    "diameter_series.apply(is_prime)"
   ]
  },
  {
   "cell_type": "markdown",
   "metadata": {},
   "source": [
    "Notemos, además, que `apply` también recibe funciones que ya se ejecutan de forma _element-wise_.  \n",
    "Por ejemplo, `numpy.isfinite` es _element-wise_."
   ]
  },
  {
   "cell_type": "code",
   "execution_count": 156,
   "metadata": {
    "collapsed": false
   },
   "outputs": [
    {
     "data": {
      "text/plain": [
       "Júpiter     True\n",
       "Marte       True\n",
       "Mercurio    True\n",
       "Neptuno     True\n",
       "Plutón      True\n",
       "Saturno     True\n",
       "Tierra      True\n",
       "Urano       True\n",
       "Venus       True\n",
       "dtype: bool"
      ]
     },
     "execution_count": 156,
     "metadata": {},
     "output_type": "execute_result"
    }
   ],
   "source": [
    "numpy.isfinite(diameter_series)"
   ]
  },
  {
   "cell_type": "code",
   "execution_count": 157,
   "metadata": {
    "collapsed": false
   },
   "outputs": [
    {
     "data": {
      "text/plain": [
       "Júpiter     True\n",
       "Marte       True\n",
       "Mercurio    True\n",
       "Neptuno     True\n",
       "Plutón      True\n",
       "Saturno     True\n",
       "Tierra      True\n",
       "Urano       True\n",
       "Venus       True\n",
       "dtype: bool"
      ]
     },
     "execution_count": 157,
     "metadata": {},
     "output_type": "execute_result"
    }
   ],
   "source": [
    "diameter_series.apply(numpy.isfinite)"
   ]
  },
  {
   "cell_type": "markdown",
   "metadata": {},
   "source": [
    "Podemos notar entonces que este tipo de operaciones nos entrega un _series_ de valores booleanos.  \n",
    "Esto es clave para entender lo que haremos a continuación: filtrar datos."
   ]
  },
  {
   "cell_type": "markdown",
   "metadata": {},
   "source": [
    "## Filtrar\n",
    "\n",
    "Veamos un rápido ejemplo: filtremos todos los planetas que tengan un diámetro menor que la Tierra."
   ]
  },
  {
   "cell_type": "code",
   "execution_count": 116,
   "metadata": {
    "collapsed": false
   },
   "outputs": [
    {
     "data": {
      "text/plain": [
       "Marte       6.792000e+12\n",
       "Mercurio    4.879000e+12\n",
       "Plutón      2.370000e+12\n",
       "Venus       1.210400e+13\n",
       "dtype: float64"
      ]
     },
     "execution_count": 116,
     "metadata": {},
     "output_type": "execute_result"
    }
   ],
   "source": [
    "diameter_series[diameter_series < diameter_series['Tierra']]"
   ]
  },
  {
   "cell_type": "markdown",
   "metadata": {},
   "source": [
    "¿Cómo funciona esto por detrás?  \n",
    "Veamos que entrega la expresión interna."
   ]
  },
  {
   "cell_type": "code",
   "execution_count": 158,
   "metadata": {
    "collapsed": false
   },
   "outputs": [
    {
     "data": {
      "text/plain": [
       "Júpiter     False\n",
       "Marte        True\n",
       "Mercurio     True\n",
       "Neptuno     False\n",
       "Plutón       True\n",
       "Saturno     False\n",
       "Tierra      False\n",
       "Urano       False\n",
       "Venus        True\n",
       "dtype: bool"
      ]
     },
     "execution_count": 158,
     "metadata": {},
     "output_type": "execute_result"
    }
   ],
   "source": [
    "diameter_series < diameter_series['Tierra']"
   ]
  },
  {
   "cell_type": "markdown",
   "metadata": {},
   "source": [
    "Nuevamente tenemos valores booleanos. Luego, cada uno de ellos se aplica al _series_.  \n",
    "Así, si es `True`, el valor se queda; si es `False`, el valor se elimina.  \n",
    "Veamos otro ejemplo."
   ]
  },
  {
   "cell_type": "code",
   "execution_count": 166,
   "metadata": {
    "collapsed": false
   },
   "outputs": [
    {
     "data": {
      "text/plain": [
       "Marte    6.792000e+12\n",
       "dtype: float64"
      ]
     },
     "execution_count": 166,
     "metadata": {},
     "output_type": "execute_result"
    }
   ],
   "source": [
    "boolean_indexing = [False, True, False, False, False, False, False, False, False]\n",
    "diameter_series[boolean_indexing]"
   ]
  },
  {
   "cell_type": "markdown",
   "metadata": {
    "collapsed": true
   },
   "source": [
    "Aquí sólo dejamos un único valor con `True`, luego recibimos un _series_ con un único elemento."
   ]
  },
  {
   "cell_type": "markdown",
   "metadata": {},
   "source": [
    "## _Dataframes_"
   ]
  },
  {
   "cell_type": "markdown",
   "metadata": {
    "collapsed": true
   },
   "source": [
    "Los _dataframes_ son la extensión natural de un _series_, ya que puede ser visto como un conjunto de _series_.  \n",
    "Siguiendo con el ejemplo de los planetas,\n",
    "podríamos crear un _dataframe_ si es que tuvieramos más atributos de cada planeta.  \n",
    "De esta forma, leamos un CSV con más atributos."
   ]
  },
  {
   "cell_type": "code",
   "execution_count": 40,
   "metadata": {
    "collapsed": false
   },
   "outputs": [
    {
     "data": {
      "text/html": [
       "<div>\n",
       "<table border=\"1\" class=\"dataframe\">\n",
       "  <thead>\n",
       "    <tr style=\"text-align: right;\">\n",
       "      <th></th>\n",
       "      <th>Mass (10^24kg)</th>\n",
       "      <th>Diameter (km)</th>\n",
       "      <th>Density (kg/m3)</th>\n",
       "      <th>Gravity (m/s2)</th>\n",
       "      <th>Escape Velocity (km/s)</th>\n",
       "      <th>Rotation Period (hours)</th>\n",
       "      <th>Length of Day (hours)</th>\n",
       "      <th>Distance from Sun (106 km)</th>\n",
       "      <th>Perihelion (10^6 km)</th>\n",
       "      <th>Aphelion (10^6 km)</th>\n",
       "      <th>Orbital Period (days)</th>\n",
       "      <th>Orbital Velocity (km/s)</th>\n",
       "      <th>Orbital Inclination (degrees)</th>\n",
       "      <th>Orbital Eccentricity</th>\n",
       "      <th>Obliquity to Orbit (degrees)</th>\n",
       "      <th>Mean Temperature (C)</th>\n",
       "    </tr>\n",
       "  </thead>\n",
       "  <tbody>\n",
       "    <tr>\n",
       "      <th>MERCURY</th>\n",
       "      <td>0.3300</td>\n",
       "      <td>4879.0</td>\n",
       "      <td>5427.0</td>\n",
       "      <td>3.7</td>\n",
       "      <td>4.3</td>\n",
       "      <td>1407.6</td>\n",
       "      <td>4222.6</td>\n",
       "      <td>57.900</td>\n",
       "      <td>46.000</td>\n",
       "      <td>69.800</td>\n",
       "      <td>88.0</td>\n",
       "      <td>47.4</td>\n",
       "      <td>7.0</td>\n",
       "      <td>0.205</td>\n",
       "      <td>0.01</td>\n",
       "      <td>167.0</td>\n",
       "    </tr>\n",
       "    <tr>\n",
       "      <th>VENUS</th>\n",
       "      <td>4.8700</td>\n",
       "      <td>12104.0</td>\n",
       "      <td>5243.0</td>\n",
       "      <td>8.9</td>\n",
       "      <td>10.4</td>\n",
       "      <td>-5832.5</td>\n",
       "      <td>2802.0</td>\n",
       "      <td>108.200</td>\n",
       "      <td>107.500</td>\n",
       "      <td>108.900</td>\n",
       "      <td>224.7</td>\n",
       "      <td>35.0</td>\n",
       "      <td>3.4</td>\n",
       "      <td>0.007</td>\n",
       "      <td>177.40</td>\n",
       "      <td>464.0</td>\n",
       "    </tr>\n",
       "    <tr>\n",
       "      <th>EARTH</th>\n",
       "      <td>5.9700</td>\n",
       "      <td>12756.0</td>\n",
       "      <td>5514.0</td>\n",
       "      <td>9.8</td>\n",
       "      <td>11.2</td>\n",
       "      <td>23.9</td>\n",
       "      <td>24.0</td>\n",
       "      <td>149.600</td>\n",
       "      <td>147.100</td>\n",
       "      <td>152.100</td>\n",
       "      <td>365.2</td>\n",
       "      <td>29.8</td>\n",
       "      <td>0.0</td>\n",
       "      <td>0.017</td>\n",
       "      <td>23.40</td>\n",
       "      <td>15.0</td>\n",
       "    </tr>\n",
       "    <tr>\n",
       "      <th>MOON</th>\n",
       "      <td>0.0730</td>\n",
       "      <td>3475.0</td>\n",
       "      <td>3340.0</td>\n",
       "      <td>1.6</td>\n",
       "      <td>2.4</td>\n",
       "      <td>655.7</td>\n",
       "      <td>708.7</td>\n",
       "      <td>0.384</td>\n",
       "      <td>0.363</td>\n",
       "      <td>0.406</td>\n",
       "      <td>27.3</td>\n",
       "      <td>1.0</td>\n",
       "      <td>5.1</td>\n",
       "      <td>0.055</td>\n",
       "      <td>6.70</td>\n",
       "      <td>-20.0</td>\n",
       "    </tr>\n",
       "    <tr>\n",
       "      <th>MARS</th>\n",
       "      <td>0.6420</td>\n",
       "      <td>6792.0</td>\n",
       "      <td>3933.0</td>\n",
       "      <td>3.7</td>\n",
       "      <td>5.0</td>\n",
       "      <td>24.6</td>\n",
       "      <td>24.7</td>\n",
       "      <td>227.900</td>\n",
       "      <td>206.600</td>\n",
       "      <td>249.200</td>\n",
       "      <td>687.0</td>\n",
       "      <td>24.1</td>\n",
       "      <td>1.9</td>\n",
       "      <td>0.094</td>\n",
       "      <td>25.20</td>\n",
       "      <td>-65.0</td>\n",
       "    </tr>\n",
       "    <tr>\n",
       "      <th>JUPITER</th>\n",
       "      <td>1898.0000</td>\n",
       "      <td>142984.0</td>\n",
       "      <td>1326.0</td>\n",
       "      <td>23.1</td>\n",
       "      <td>59.5</td>\n",
       "      <td>9.9</td>\n",
       "      <td>9.9</td>\n",
       "      <td>778.600</td>\n",
       "      <td>740.500</td>\n",
       "      <td>816.600</td>\n",
       "      <td>4331.0</td>\n",
       "      <td>13.1</td>\n",
       "      <td>1.3</td>\n",
       "      <td>0.049</td>\n",
       "      <td>3.10</td>\n",
       "      <td>-110.0</td>\n",
       "    </tr>\n",
       "    <tr>\n",
       "      <th>SATURN</th>\n",
       "      <td>568.0000</td>\n",
       "      <td>120536.0</td>\n",
       "      <td>687.0</td>\n",
       "      <td>9.0</td>\n",
       "      <td>35.5</td>\n",
       "      <td>10.7</td>\n",
       "      <td>10.7</td>\n",
       "      <td>1433.500</td>\n",
       "      <td>1352.600</td>\n",
       "      <td>1514.500</td>\n",
       "      <td>10747.0</td>\n",
       "      <td>9.7</td>\n",
       "      <td>2.5</td>\n",
       "      <td>0.057</td>\n",
       "      <td>26.70</td>\n",
       "      <td>-140.0</td>\n",
       "    </tr>\n",
       "    <tr>\n",
       "      <th>URANUS</th>\n",
       "      <td>86.8000</td>\n",
       "      <td>51118.0</td>\n",
       "      <td>1271.0</td>\n",
       "      <td>8.7</td>\n",
       "      <td>21.3</td>\n",
       "      <td>-17.2</td>\n",
       "      <td>17.2</td>\n",
       "      <td>2872.500</td>\n",
       "      <td>2741.300</td>\n",
       "      <td>3003.600</td>\n",
       "      <td>30589.0</td>\n",
       "      <td>6.8</td>\n",
       "      <td>0.8</td>\n",
       "      <td>0.046</td>\n",
       "      <td>97.80</td>\n",
       "      <td>-195.0</td>\n",
       "    </tr>\n",
       "    <tr>\n",
       "      <th>NEPTUNE</th>\n",
       "      <td>102.0000</td>\n",
       "      <td>49528.0</td>\n",
       "      <td>1638.0</td>\n",
       "      <td>11.0</td>\n",
       "      <td>23.5</td>\n",
       "      <td>16.1</td>\n",
       "      <td>16.1</td>\n",
       "      <td>4495.100</td>\n",
       "      <td>4444.500</td>\n",
       "      <td>4545.700</td>\n",
       "      <td>59800.0</td>\n",
       "      <td>5.4</td>\n",
       "      <td>1.8</td>\n",
       "      <td>0.011</td>\n",
       "      <td>28.30</td>\n",
       "      <td>-200.0</td>\n",
       "    </tr>\n",
       "    <tr>\n",
       "      <th>PLUTO</th>\n",
       "      <td>0.0146</td>\n",
       "      <td>2370.0</td>\n",
       "      <td>2095.0</td>\n",
       "      <td>0.7</td>\n",
       "      <td>1.3</td>\n",
       "      <td>-153.3</td>\n",
       "      <td>153.3</td>\n",
       "      <td>5906.400</td>\n",
       "      <td>4436.800</td>\n",
       "      <td>7375.900</td>\n",
       "      <td>90560.0</td>\n",
       "      <td>4.7</td>\n",
       "      <td>17.2</td>\n",
       "      <td>0.244</td>\n",
       "      <td>122.50</td>\n",
       "      <td>-225.0</td>\n",
       "    </tr>\n",
       "  </tbody>\n",
       "</table>\n",
       "</div>"
      ],
      "text/plain": [
       "         Mass (10^24kg)  Diameter (km)  Density (kg/m3)  Gravity (m/s2)  \\\n",
       "MERCURY          0.3300         4879.0           5427.0             3.7   \n",
       "VENUS            4.8700        12104.0           5243.0             8.9   \n",
       "EARTH            5.9700        12756.0           5514.0             9.8   \n",
       "MOON             0.0730         3475.0           3340.0             1.6   \n",
       "MARS             0.6420         6792.0           3933.0             3.7   \n",
       "JUPITER       1898.0000       142984.0           1326.0            23.1   \n",
       "SATURN         568.0000       120536.0            687.0             9.0   \n",
       "URANUS          86.8000        51118.0           1271.0             8.7   \n",
       "NEPTUNE        102.0000        49528.0           1638.0            11.0   \n",
       "PLUTO            0.0146         2370.0           2095.0             0.7   \n",
       "\n",
       "         Escape Velocity (km/s)  Rotation Period (hours)  \\\n",
       "MERCURY                     4.3                   1407.6   \n",
       "VENUS                      10.4                  -5832.5   \n",
       "EARTH                      11.2                     23.9   \n",
       "MOON                        2.4                    655.7   \n",
       "MARS                        5.0                     24.6   \n",
       "JUPITER                    59.5                      9.9   \n",
       "SATURN                     35.5                     10.7   \n",
       "URANUS                     21.3                    -17.2   \n",
       "NEPTUNE                    23.5                     16.1   \n",
       "PLUTO                       1.3                   -153.3   \n",
       "\n",
       "         Length of Day (hours)  Distance from Sun (106 km)  \\\n",
       "MERCURY                 4222.6                      57.900   \n",
       "VENUS                   2802.0                     108.200   \n",
       "EARTH                     24.0                     149.600   \n",
       "MOON                     708.7                       0.384   \n",
       "MARS                      24.7                     227.900   \n",
       "JUPITER                    9.9                     778.600   \n",
       "SATURN                    10.7                    1433.500   \n",
       "URANUS                    17.2                    2872.500   \n",
       "NEPTUNE                   16.1                    4495.100   \n",
       "PLUTO                    153.3                    5906.400   \n",
       "\n",
       "         Perihelion (10^6 km)  Aphelion (10^6 km)  Orbital Period (days)  \\\n",
       "MERCURY                46.000              69.800                   88.0   \n",
       "VENUS                 107.500             108.900                  224.7   \n",
       "EARTH                 147.100             152.100                  365.2   \n",
       "MOON                    0.363               0.406                   27.3   \n",
       "MARS                  206.600             249.200                  687.0   \n",
       "JUPITER               740.500             816.600                 4331.0   \n",
       "SATURN               1352.600            1514.500                10747.0   \n",
       "URANUS               2741.300            3003.600                30589.0   \n",
       "NEPTUNE              4444.500            4545.700                59800.0   \n",
       "PLUTO                4436.800            7375.900                90560.0   \n",
       "\n",
       "         Orbital Velocity (km/s)  Orbital Inclination (degrees)  \\\n",
       "MERCURY                     47.4                            7.0   \n",
       "VENUS                       35.0                            3.4   \n",
       "EARTH                       29.8                            0.0   \n",
       "MOON                         1.0                            5.1   \n",
       "MARS                        24.1                            1.9   \n",
       "JUPITER                     13.1                            1.3   \n",
       "SATURN                       9.7                            2.5   \n",
       "URANUS                       6.8                            0.8   \n",
       "NEPTUNE                      5.4                            1.8   \n",
       "PLUTO                        4.7                           17.2   \n",
       "\n",
       "         Orbital Eccentricity  Obliquity to Orbit (degrees)  \\\n",
       "MERCURY                 0.205                          0.01   \n",
       "VENUS                   0.007                        177.40   \n",
       "EARTH                   0.017                         23.40   \n",
       "MOON                    0.055                          6.70   \n",
       "MARS                    0.094                         25.20   \n",
       "JUPITER                 0.049                          3.10   \n",
       "SATURN                  0.057                         26.70   \n",
       "URANUS                  0.046                         97.80   \n",
       "NEPTUNE                 0.011                         28.30   \n",
       "PLUTO                   0.244                        122.50   \n",
       "\n",
       "         Mean Temperature (C)  \n",
       "MERCURY                 167.0  \n",
       "VENUS                   464.0  \n",
       "EARTH                    15.0  \n",
       "MOON                    -20.0  \n",
       "MARS                    -65.0  \n",
       "JUPITER                -110.0  \n",
       "SATURN                 -140.0  \n",
       "URANUS                 -195.0  \n",
       "NEPTUNE                -200.0  \n",
       "PLUTO                  -225.0  "
      ]
     },
     "execution_count": 40,
     "metadata": {},
     "output_type": "execute_result"
    }
   ],
   "source": [
    "full_planet = pandas.read_csv('planett.csv', index_col=0)\n",
    "# full_planet.index\n",
    "full_planet"
   ]
  },
  {
   "cell_type": "markdown",
   "metadata": {},
   "source": [
    "### Selección\n",
    "\n",
    "Primero, veamos cómo funciona la selección en los _dataframes_.\n",
    "\n",
    "#### Selección de columnas\n",
    "\n",
    "- `dataframe[colname]`\n",
    "\n",
    "#### Selección de filas\n",
    "\n",
    "- `dataframe.loc[...]`\n",
    "- `dataframe.iloc[...]`"
   ]
  },
  {
   "cell_type": "code",
   "execution_count": 55,
   "metadata": {
    "collapsed": false
   },
   "outputs": [
    {
     "data": {
      "text/plain": [
       "MERCURY      4879.0\n",
       "VENUS       12104.0\n",
       "EARTH       12756.0\n",
       "MOON         3475.0\n",
       "MARS         6792.0\n",
       "JUPITER    142984.0\n",
       "SATURN     120536.0\n",
       "URANUS      51118.0\n",
       "NEPTUNE     49528.0\n",
       "PLUTO        2370.0\n",
       "Name: Diameter (km), dtype: float64"
      ]
     },
     "metadata": {},
     "output_type": "display_data"
    },
    {
     "data": {
      "text/plain": [
       "Mass (10^24kg)                     1898.000\n",
       "Diameter (km)                    142984.000\n",
       "Density (kg/m3)                    1326.000\n",
       "Gravity (m/s2)                       23.100\n",
       "Escape Velocity (km/s)               59.500\n",
       "Rotation Period (hours)               9.900\n",
       "Length of Day (hours)                 9.900\n",
       "Distance from Sun (106 km)          778.600\n",
       "Perihelion (10^6 km)                740.500\n",
       "Aphelion (10^6 km)                  816.600\n",
       "Orbital Period (days)              4331.000\n",
       "Orbital Velocity (km/s)              13.100\n",
       "Orbital Inclination (degrees)         1.300\n",
       "Orbital Eccentricity                  0.049\n",
       "Obliquity to Orbit (degrees)          3.100\n",
       "Mean Temperature (C)               -110.000\n",
       "Name: JUPITER, dtype: float64"
      ]
     },
     "metadata": {},
     "output_type": "display_data"
    },
    {
     "data": {
      "text/html": [
       "<div>\n",
       "<table border=\"1\" class=\"dataframe\">\n",
       "  <thead>\n",
       "    <tr style=\"text-align: right;\">\n",
       "      <th></th>\n",
       "      <th>Mass (10^24kg)</th>\n",
       "      <th>Diameter (km)</th>\n",
       "      <th>Density (kg/m3)</th>\n",
       "      <th>Gravity (m/s2)</th>\n",
       "      <th>Escape Velocity (km/s)</th>\n",
       "      <th>Rotation Period (hours)</th>\n",
       "      <th>Length of Day (hours)</th>\n",
       "      <th>Distance from Sun (106 km)</th>\n",
       "      <th>Perihelion (10^6 km)</th>\n",
       "      <th>Aphelion (10^6 km)</th>\n",
       "      <th>Orbital Period (days)</th>\n",
       "      <th>Orbital Velocity (km/s)</th>\n",
       "      <th>Orbital Inclination (degrees)</th>\n",
       "      <th>Orbital Eccentricity</th>\n",
       "      <th>Obliquity to Orbit (degrees)</th>\n",
       "      <th>Mean Temperature (C)</th>\n",
       "    </tr>\n",
       "  </thead>\n",
       "  <tbody>\n",
       "    <tr>\n",
       "      <th>JUPITER</th>\n",
       "      <td>1898.0</td>\n",
       "      <td>142984.0</td>\n",
       "      <td>1326.0</td>\n",
       "      <td>23.1</td>\n",
       "      <td>59.5</td>\n",
       "      <td>9.9</td>\n",
       "      <td>9.9</td>\n",
       "      <td>778.6</td>\n",
       "      <td>740.5</td>\n",
       "      <td>816.6</td>\n",
       "      <td>4331.0</td>\n",
       "      <td>13.1</td>\n",
       "      <td>1.3</td>\n",
       "      <td>0.049</td>\n",
       "      <td>3.1</td>\n",
       "      <td>-110.0</td>\n",
       "    </tr>\n",
       "    <tr>\n",
       "      <th>SATURN</th>\n",
       "      <td>568.0</td>\n",
       "      <td>120536.0</td>\n",
       "      <td>687.0</td>\n",
       "      <td>9.0</td>\n",
       "      <td>35.5</td>\n",
       "      <td>10.7</td>\n",
       "      <td>10.7</td>\n",
       "      <td>1433.5</td>\n",
       "      <td>1352.6</td>\n",
       "      <td>1514.5</td>\n",
       "      <td>10747.0</td>\n",
       "      <td>9.7</td>\n",
       "      <td>2.5</td>\n",
       "      <td>0.057</td>\n",
       "      <td>26.7</td>\n",
       "      <td>-140.0</td>\n",
       "    </tr>\n",
       "    <tr>\n",
       "      <th>URANUS</th>\n",
       "      <td>86.8</td>\n",
       "      <td>51118.0</td>\n",
       "      <td>1271.0</td>\n",
       "      <td>8.7</td>\n",
       "      <td>21.3</td>\n",
       "      <td>-17.2</td>\n",
       "      <td>17.2</td>\n",
       "      <td>2872.5</td>\n",
       "      <td>2741.3</td>\n",
       "      <td>3003.6</td>\n",
       "      <td>30589.0</td>\n",
       "      <td>6.8</td>\n",
       "      <td>0.8</td>\n",
       "      <td>0.046</td>\n",
       "      <td>97.8</td>\n",
       "      <td>-195.0</td>\n",
       "    </tr>\n",
       "  </tbody>\n",
       "</table>\n",
       "</div>"
      ],
      "text/plain": [
       "         Mass (10^24kg)  Diameter (km)  Density (kg/m3)  Gravity (m/s2)  \\\n",
       "JUPITER          1898.0       142984.0           1326.0            23.1   \n",
       "SATURN            568.0       120536.0            687.0             9.0   \n",
       "URANUS             86.8        51118.0           1271.0             8.7   \n",
       "\n",
       "         Escape Velocity (km/s)  Rotation Period (hours)  \\\n",
       "JUPITER                    59.5                      9.9   \n",
       "SATURN                     35.5                     10.7   \n",
       "URANUS                     21.3                    -17.2   \n",
       "\n",
       "         Length of Day (hours)  Distance from Sun (106 km)  \\\n",
       "JUPITER                    9.9                       778.6   \n",
       "SATURN                    10.7                      1433.5   \n",
       "URANUS                    17.2                      2872.5   \n",
       "\n",
       "         Perihelion (10^6 km)  Aphelion (10^6 km)  Orbital Period (days)  \\\n",
       "JUPITER                 740.5               816.6                 4331.0   \n",
       "SATURN                 1352.6              1514.5                10747.0   \n",
       "URANUS                 2741.3              3003.6                30589.0   \n",
       "\n",
       "         Orbital Velocity (km/s)  Orbital Inclination (degrees)  \\\n",
       "JUPITER                     13.1                            1.3   \n",
       "SATURN                       9.7                            2.5   \n",
       "URANUS                       6.8                            0.8   \n",
       "\n",
       "         Orbital Eccentricity  Obliquity to Orbit (degrees)  \\\n",
       "JUPITER                 0.049                           3.1   \n",
       "SATURN                  0.057                          26.7   \n",
       "URANUS                  0.046                          97.8   \n",
       "\n",
       "         Mean Temperature (C)  \n",
       "JUPITER                -110.0  \n",
       "SATURN                 -140.0  \n",
       "URANUS                 -195.0  "
      ]
     },
     "metadata": {},
     "output_type": "display_data"
    },
    {
     "data": {
      "text/html": [
       "<div>\n",
       "<table border=\"1\" class=\"dataframe\">\n",
       "  <thead>\n",
       "    <tr style=\"text-align: right;\">\n",
       "      <th></th>\n",
       "      <th>Mass (10^24kg)</th>\n",
       "      <th>Diameter (km)</th>\n",
       "      <th>Density (kg/m3)</th>\n",
       "      <th>Gravity (m/s2)</th>\n",
       "      <th>Escape Velocity (km/s)</th>\n",
       "      <th>Rotation Period (hours)</th>\n",
       "      <th>Length of Day (hours)</th>\n",
       "      <th>Distance from Sun (106 km)</th>\n",
       "      <th>Perihelion (10^6 km)</th>\n",
       "      <th>Aphelion (10^6 km)</th>\n",
       "      <th>Orbital Period (days)</th>\n",
       "      <th>Orbital Velocity (km/s)</th>\n",
       "      <th>Orbital Inclination (degrees)</th>\n",
       "      <th>Orbital Eccentricity</th>\n",
       "      <th>Obliquity to Orbit (degrees)</th>\n",
       "      <th>Mean Temperature (C)</th>\n",
       "    </tr>\n",
       "  </thead>\n",
       "  <tbody>\n",
       "    <tr>\n",
       "      <th>JUPITER</th>\n",
       "      <td>1898.000</td>\n",
       "      <td>142984.0</td>\n",
       "      <td>1326.0</td>\n",
       "      <td>23.1</td>\n",
       "      <td>59.5</td>\n",
       "      <td>9.9</td>\n",
       "      <td>9.9</td>\n",
       "      <td>778.600</td>\n",
       "      <td>740.500</td>\n",
       "      <td>816.600</td>\n",
       "      <td>4331.0</td>\n",
       "      <td>13.1</td>\n",
       "      <td>1.3</td>\n",
       "      <td>0.049</td>\n",
       "      <td>3.1</td>\n",
       "      <td>-110.0</td>\n",
       "    </tr>\n",
       "    <tr>\n",
       "      <th>MOON</th>\n",
       "      <td>0.073</td>\n",
       "      <td>3475.0</td>\n",
       "      <td>3340.0</td>\n",
       "      <td>1.6</td>\n",
       "      <td>2.4</td>\n",
       "      <td>655.7</td>\n",
       "      <td>708.7</td>\n",
       "      <td>0.384</td>\n",
       "      <td>0.363</td>\n",
       "      <td>0.406</td>\n",
       "      <td>27.3</td>\n",
       "      <td>1.0</td>\n",
       "      <td>5.1</td>\n",
       "      <td>0.055</td>\n",
       "      <td>6.7</td>\n",
       "      <td>-20.0</td>\n",
       "    </tr>\n",
       "  </tbody>\n",
       "</table>\n",
       "</div>"
      ],
      "text/plain": [
       "         Mass (10^24kg)  Diameter (km)  Density (kg/m3)  Gravity (m/s2)  \\\n",
       "JUPITER        1898.000       142984.0           1326.0            23.1   \n",
       "MOON              0.073         3475.0           3340.0             1.6   \n",
       "\n",
       "         Escape Velocity (km/s)  Rotation Period (hours)  \\\n",
       "JUPITER                    59.5                      9.9   \n",
       "MOON                        2.4                    655.7   \n",
       "\n",
       "         Length of Day (hours)  Distance from Sun (106 km)  \\\n",
       "JUPITER                    9.9                     778.600   \n",
       "MOON                     708.7                       0.384   \n",
       "\n",
       "         Perihelion (10^6 km)  Aphelion (10^6 km)  Orbital Period (days)  \\\n",
       "JUPITER               740.500             816.600                 4331.0   \n",
       "MOON                    0.363               0.406                   27.3   \n",
       "\n",
       "         Orbital Velocity (km/s)  Orbital Inclination (degrees)  \\\n",
       "JUPITER                     13.1                            1.3   \n",
       "MOON                         1.0                            5.1   \n",
       "\n",
       "         Orbital Eccentricity  Obliquity to Orbit (degrees)  \\\n",
       "JUPITER                 0.049                           3.1   \n",
       "MOON                    0.055                           6.7   \n",
       "\n",
       "         Mean Temperature (C)  \n",
       "JUPITER                -110.0  \n",
       "MOON                    -20.0  "
      ]
     },
     "metadata": {},
     "output_type": "display_data"
    },
    {
     "data": {
      "text/plain": [
       "Mass (10^24kg)                       5.970\n",
       "Diameter (km)                    12756.000\n",
       "Density (kg/m3)                   5514.000\n",
       "Gravity (m/s2)                       9.800\n",
       "Escape Velocity (km/s)              11.200\n",
       "Rotation Period (hours)             23.900\n",
       "Length of Day (hours)               24.000\n",
       "Distance from Sun (106 km)         149.600\n",
       "Perihelion (10^6 km)               147.100\n",
       "Aphelion (10^6 km)                 152.100\n",
       "Orbital Period (days)              365.200\n",
       "Orbital Velocity (km/s)             29.800\n",
       "Orbital Inclination (degrees)        0.000\n",
       "Orbital Eccentricity                 0.017\n",
       "Obliquity to Orbit (degrees)        23.400\n",
       "Mean Temperature (C)                15.000\n",
       "Name: EARTH, dtype: float64"
      ]
     },
     "metadata": {},
     "output_type": "display_data"
    },
    {
     "data": {
      "text/html": [
       "<div>\n",
       "<table border=\"1\" class=\"dataframe\">\n",
       "  <thead>\n",
       "    <tr style=\"text-align: right;\">\n",
       "      <th></th>\n",
       "      <th>Mass (10^24kg)</th>\n",
       "      <th>Diameter (km)</th>\n",
       "      <th>Density (kg/m3)</th>\n",
       "      <th>Gravity (m/s2)</th>\n",
       "      <th>Escape Velocity (km/s)</th>\n",
       "      <th>Rotation Period (hours)</th>\n",
       "      <th>Length of Day (hours)</th>\n",
       "      <th>Distance from Sun (106 km)</th>\n",
       "      <th>Perihelion (10^6 km)</th>\n",
       "      <th>Aphelion (10^6 km)</th>\n",
       "      <th>Orbital Period (days)</th>\n",
       "      <th>Orbital Velocity (km/s)</th>\n",
       "      <th>Orbital Inclination (degrees)</th>\n",
       "      <th>Orbital Eccentricity</th>\n",
       "      <th>Obliquity to Orbit (degrees)</th>\n",
       "      <th>Mean Temperature (C)</th>\n",
       "    </tr>\n",
       "  </thead>\n",
       "  <tbody>\n",
       "    <tr>\n",
       "      <th>EARTH</th>\n",
       "      <td>5.970</td>\n",
       "      <td>12756.0</td>\n",
       "      <td>5514.0</td>\n",
       "      <td>9.8</td>\n",
       "      <td>11.2</td>\n",
       "      <td>23.9</td>\n",
       "      <td>24.0</td>\n",
       "      <td>149.600</td>\n",
       "      <td>147.100</td>\n",
       "      <td>152.100</td>\n",
       "      <td>365.2</td>\n",
       "      <td>29.8</td>\n",
       "      <td>0.0</td>\n",
       "      <td>0.017</td>\n",
       "      <td>23.4</td>\n",
       "      <td>15.0</td>\n",
       "    </tr>\n",
       "    <tr>\n",
       "      <th>MOON</th>\n",
       "      <td>0.073</td>\n",
       "      <td>3475.0</td>\n",
       "      <td>3340.0</td>\n",
       "      <td>1.6</td>\n",
       "      <td>2.4</td>\n",
       "      <td>655.7</td>\n",
       "      <td>708.7</td>\n",
       "      <td>0.384</td>\n",
       "      <td>0.363</td>\n",
       "      <td>0.406</td>\n",
       "      <td>27.3</td>\n",
       "      <td>1.0</td>\n",
       "      <td>5.1</td>\n",
       "      <td>0.055</td>\n",
       "      <td>6.7</td>\n",
       "      <td>-20.0</td>\n",
       "    </tr>\n",
       "    <tr>\n",
       "      <th>MARS</th>\n",
       "      <td>0.642</td>\n",
       "      <td>6792.0</td>\n",
       "      <td>3933.0</td>\n",
       "      <td>3.7</td>\n",
       "      <td>5.0</td>\n",
       "      <td>24.6</td>\n",
       "      <td>24.7</td>\n",
       "      <td>227.900</td>\n",
       "      <td>206.600</td>\n",
       "      <td>249.200</td>\n",
       "      <td>687.0</td>\n",
       "      <td>24.1</td>\n",
       "      <td>1.9</td>\n",
       "      <td>0.094</td>\n",
       "      <td>25.2</td>\n",
       "      <td>-65.0</td>\n",
       "    </tr>\n",
       "  </tbody>\n",
       "</table>\n",
       "</div>"
      ],
      "text/plain": [
       "       Mass (10^24kg)  Diameter (km)  Density (kg/m3)  Gravity (m/s2)  \\\n",
       "EARTH           5.970        12756.0           5514.0             9.8   \n",
       "MOON            0.073         3475.0           3340.0             1.6   \n",
       "MARS            0.642         6792.0           3933.0             3.7   \n",
       "\n",
       "       Escape Velocity (km/s)  Rotation Period (hours)  Length of Day (hours)  \\\n",
       "EARTH                    11.2                     23.9                   24.0   \n",
       "MOON                      2.4                    655.7                  708.7   \n",
       "MARS                      5.0                     24.6                   24.7   \n",
       "\n",
       "       Distance from Sun (106 km)  Perihelion (10^6 km)  Aphelion (10^6 km)  \\\n",
       "EARTH                     149.600               147.100             152.100   \n",
       "MOON                        0.384                 0.363               0.406   \n",
       "MARS                      227.900               206.600             249.200   \n",
       "\n",
       "       Orbital Period (days)  Orbital Velocity (km/s)  \\\n",
       "EARTH                  365.2                     29.8   \n",
       "MOON                    27.3                      1.0   \n",
       "MARS                   687.0                     24.1   \n",
       "\n",
       "       Orbital Inclination (degrees)  Orbital Eccentricity  \\\n",
       "EARTH                            0.0                 0.017   \n",
       "MOON                             5.1                 0.055   \n",
       "MARS                             1.9                 0.094   \n",
       "\n",
       "       Obliquity to Orbit (degrees)  Mean Temperature (C)  \n",
       "EARTH                          23.4                  15.0  \n",
       "MOON                            6.7                 -20.0  \n",
       "MARS                           25.2                 -65.0  "
      ]
     },
     "metadata": {},
     "output_type": "display_data"
    },
    {
     "data": {
      "text/html": [
       "<div>\n",
       "<table border=\"1\" class=\"dataframe\">\n",
       "  <thead>\n",
       "    <tr style=\"text-align: right;\">\n",
       "      <th></th>\n",
       "      <th>Mass (10^24kg)</th>\n",
       "      <th>Diameter (km)</th>\n",
       "      <th>Density (kg/m3)</th>\n",
       "      <th>Gravity (m/s2)</th>\n",
       "      <th>Escape Velocity (km/s)</th>\n",
       "      <th>Rotation Period (hours)</th>\n",
       "      <th>Length of Day (hours)</th>\n",
       "      <th>Distance from Sun (106 km)</th>\n",
       "      <th>Perihelion (10^6 km)</th>\n",
       "      <th>Aphelion (10^6 km)</th>\n",
       "      <th>Orbital Period (days)</th>\n",
       "      <th>Orbital Velocity (km/s)</th>\n",
       "      <th>Orbital Inclination (degrees)</th>\n",
       "      <th>Orbital Eccentricity</th>\n",
       "      <th>Obliquity to Orbit (degrees)</th>\n",
       "      <th>Mean Temperature (C)</th>\n",
       "    </tr>\n",
       "  </thead>\n",
       "  <tbody>\n",
       "    <tr>\n",
       "      <th>EARTH</th>\n",
       "      <td>5.970</td>\n",
       "      <td>12756.0</td>\n",
       "      <td>5514.0</td>\n",
       "      <td>9.8</td>\n",
       "      <td>11.2</td>\n",
       "      <td>23.9</td>\n",
       "      <td>24.0</td>\n",
       "      <td>149.600</td>\n",
       "      <td>147.100</td>\n",
       "      <td>152.100</td>\n",
       "      <td>365.2</td>\n",
       "      <td>29.8</td>\n",
       "      <td>0.0</td>\n",
       "      <td>0.017</td>\n",
       "      <td>23.4</td>\n",
       "      <td>15.0</td>\n",
       "    </tr>\n",
       "    <tr>\n",
       "      <th>MOON</th>\n",
       "      <td>0.073</td>\n",
       "      <td>3475.0</td>\n",
       "      <td>3340.0</td>\n",
       "      <td>1.6</td>\n",
       "      <td>2.4</td>\n",
       "      <td>655.7</td>\n",
       "      <td>708.7</td>\n",
       "      <td>0.384</td>\n",
       "      <td>0.363</td>\n",
       "      <td>0.406</td>\n",
       "      <td>27.3</td>\n",
       "      <td>1.0</td>\n",
       "      <td>5.1</td>\n",
       "      <td>0.055</td>\n",
       "      <td>6.7</td>\n",
       "      <td>-20.0</td>\n",
       "    </tr>\n",
       "    <tr>\n",
       "      <th>SATURN</th>\n",
       "      <td>568.000</td>\n",
       "      <td>120536.0</td>\n",
       "      <td>687.0</td>\n",
       "      <td>9.0</td>\n",
       "      <td>35.5</td>\n",
       "      <td>10.7</td>\n",
       "      <td>10.7</td>\n",
       "      <td>1433.500</td>\n",
       "      <td>1352.600</td>\n",
       "      <td>1514.500</td>\n",
       "      <td>10747.0</td>\n",
       "      <td>9.7</td>\n",
       "      <td>2.5</td>\n",
       "      <td>0.057</td>\n",
       "      <td>26.7</td>\n",
       "      <td>-140.0</td>\n",
       "    </tr>\n",
       "  </tbody>\n",
       "</table>\n",
       "</div>"
      ],
      "text/plain": [
       "        Mass (10^24kg)  Diameter (km)  Density (kg/m3)  Gravity (m/s2)  \\\n",
       "EARTH            5.970        12756.0           5514.0             9.8   \n",
       "MOON             0.073         3475.0           3340.0             1.6   \n",
       "SATURN         568.000       120536.0            687.0             9.0   \n",
       "\n",
       "        Escape Velocity (km/s)  Rotation Period (hours)  \\\n",
       "EARTH                     11.2                     23.9   \n",
       "MOON                       2.4                    655.7   \n",
       "SATURN                    35.5                     10.7   \n",
       "\n",
       "        Length of Day (hours)  Distance from Sun (106 km)  \\\n",
       "EARTH                    24.0                     149.600   \n",
       "MOON                    708.7                       0.384   \n",
       "SATURN                   10.7                    1433.500   \n",
       "\n",
       "        Perihelion (10^6 km)  Aphelion (10^6 km)  Orbital Period (days)  \\\n",
       "EARTH                147.100             152.100                  365.2   \n",
       "MOON                   0.363               0.406                   27.3   \n",
       "SATURN              1352.600            1514.500                10747.0   \n",
       "\n",
       "        Orbital Velocity (km/s)  Orbital Inclination (degrees)  \\\n",
       "EARTH                      29.8                            0.0   \n",
       "MOON                        1.0                            5.1   \n",
       "SATURN                      9.7                            2.5   \n",
       "\n",
       "        Orbital Eccentricity  Obliquity to Orbit (degrees)  \\\n",
       "EARTH                  0.017                          23.4   \n",
       "MOON                   0.055                           6.7   \n",
       "SATURN                 0.057                          26.7   \n",
       "\n",
       "        Mean Temperature (C)  \n",
       "EARTH                   15.0  \n",
       "MOON                   -20.0  \n",
       "SATURN                -140.0  "
      ]
     },
     "metadata": {},
     "output_type": "display_data"
    }
   ],
   "source": [
    "# seleccionemos la columna.\n",
    "display(full_planet['Diameter (km)'])\n",
    "\n",
    "# loc (location)\n",
    "\n",
    "display(full_planet.loc['JUPITER'])           # una etiqueta.\n",
    "display(full_planet.loc['JUPITER':'URANUS'])  # ojo: ambos están incluidos!\n",
    "display(full_planet.loc[['JUPITER', 'MOON']]) # lista de etiquetas.\n",
    "\n",
    "# iloc (integer-based location)\n",
    "\n",
    "display(full_planet.iloc[2])          # la tercera fila.\n",
    "display(full_planet.iloc[2:5])        # de la tercera a la quinta fila.\n",
    "display(full_planet.iloc[[2, 3, 6]])  # la tercera, la cuarta y la séptima."
   ]
  },
  {
   "cell_type": "markdown",
   "metadata": {},
   "source": [
    "Pero tanto `loc` como `iloc` pueden recibir un segundo parámetro,  \n",
    "ya que funcionan seleccionando con el orden`[fila, columna]`.  \n",
    "Sin embargo, cuando se omite la columna, simplemente toma todo."
   ]
  },
  {
   "cell_type": "code",
   "execution_count": 60,
   "metadata": {
    "collapsed": false
   },
   "outputs": [
    {
     "data": {
      "text/plain": [
       "Mass (10^24kg)                       5.970\n",
       "Diameter (km)                    12756.000\n",
       "Density (kg/m3)                   5514.000\n",
       "Gravity (m/s2)                       9.800\n",
       "Escape Velocity (km/s)              11.200\n",
       "Rotation Period (hours)             23.900\n",
       "Length of Day (hours)               24.000\n",
       "Distance from Sun (106 km)         149.600\n",
       "Perihelion (10^6 km)               147.100\n",
       "Aphelion (10^6 km)                 152.100\n",
       "Orbital Period (days)              365.200\n",
       "Orbital Velocity (km/s)             29.800\n",
       "Orbital Inclination (degrees)        0.000\n",
       "Orbital Eccentricity                 0.017\n",
       "Obliquity to Orbit (degrees)        23.400\n",
       "Mean Temperature (C)                15.000\n",
       "Name: EARTH, dtype: float64"
      ]
     },
     "metadata": {},
     "output_type": "display_data"
    },
    {
     "data": {
      "text/plain": [
       "Mass (10^24kg)                       5.970\n",
       "Diameter (km)                    12756.000\n",
       "Density (kg/m3)                   5514.000\n",
       "Gravity (m/s2)                       9.800\n",
       "Escape Velocity (km/s)              11.200\n",
       "Rotation Period (hours)             23.900\n",
       "Length of Day (hours)               24.000\n",
       "Distance from Sun (106 km)         149.600\n",
       "Perihelion (10^6 km)               147.100\n",
       "Aphelion (10^6 km)                 152.100\n",
       "Orbital Period (days)              365.200\n",
       "Orbital Velocity (km/s)             29.800\n",
       "Orbital Inclination (degrees)        0.000\n",
       "Orbital Eccentricity                 0.017\n",
       "Obliquity to Orbit (degrees)        23.400\n",
       "Mean Temperature (C)                15.000\n",
       "Name: EARTH, dtype: float64"
      ]
     },
     "metadata": {},
     "output_type": "display_data"
    }
   ],
   "source": [
    "# ambos son equivalentes.\n",
    "display(full_planet.loc['EARTH'])\n",
    "display(full_planet.loc['EARTH', :])"
   ]
  },
  {
   "cell_type": "code",
   "execution_count": 68,
   "metadata": {
    "collapsed": false
   },
   "outputs": [
    {
     "data": {
      "text/plain": [
       "0.017000000000000001"
      ]
     },
     "metadata": {},
     "output_type": "display_data"
    }
   ],
   "source": [
    "display(full_planet.loc['EARTH', 'Orbital Eccentricity'])"
   ]
  },
  {
   "cell_type": "code",
   "execution_count": 70,
   "metadata": {
    "collapsed": false
   },
   "outputs": [
    {
     "data": {
      "text/plain": [
       "Density (kg/m3)           5243.0\n",
       "Gravity (m/s2)               8.9\n",
       "Escape Velocity (km/s)      10.4\n",
       "Name: VENUS, dtype: float64"
      ]
     },
     "metadata": {},
     "output_type": "display_data"
    }
   ],
   "source": [
    "display(full_planet.iloc[1, 2:5])"
   ]
  },
  {
   "cell_type": "markdown",
   "metadata": {},
   "source": [
    "Pero también se puede hacer _boolean indexing_.  \n",
    "Seleccionemos los planetas con mayor masa que nuestro hogar."
   ]
  },
  {
   "cell_type": "code",
   "execution_count": 74,
   "metadata": {
    "collapsed": false
   },
   "outputs": [
    {
     "data": {
      "text/html": [
       "<div>\n",
       "<table border=\"1\" class=\"dataframe\">\n",
       "  <thead>\n",
       "    <tr style=\"text-align: right;\">\n",
       "      <th></th>\n",
       "      <th>Mass (10^24kg)</th>\n",
       "      <th>Diameter (km)</th>\n",
       "      <th>Density (kg/m3)</th>\n",
       "      <th>Gravity (m/s2)</th>\n",
       "      <th>Escape Velocity (km/s)</th>\n",
       "      <th>Rotation Period (hours)</th>\n",
       "      <th>Length of Day (hours)</th>\n",
       "      <th>Distance from Sun (106 km)</th>\n",
       "      <th>Perihelion (10^6 km)</th>\n",
       "      <th>Aphelion (10^6 km)</th>\n",
       "      <th>Orbital Period (days)</th>\n",
       "      <th>Orbital Velocity (km/s)</th>\n",
       "      <th>Orbital Inclination (degrees)</th>\n",
       "      <th>Orbital Eccentricity</th>\n",
       "      <th>Obliquity to Orbit (degrees)</th>\n",
       "      <th>Mean Temperature (C)</th>\n",
       "    </tr>\n",
       "  </thead>\n",
       "  <tbody>\n",
       "    <tr>\n",
       "      <th>JUPITER</th>\n",
       "      <td>1898.0</td>\n",
       "      <td>142984.0</td>\n",
       "      <td>1326.0</td>\n",
       "      <td>23.1</td>\n",
       "      <td>59.5</td>\n",
       "      <td>9.9</td>\n",
       "      <td>9.9</td>\n",
       "      <td>778.6</td>\n",
       "      <td>740.5</td>\n",
       "      <td>816.6</td>\n",
       "      <td>4331.0</td>\n",
       "      <td>13.1</td>\n",
       "      <td>1.3</td>\n",
       "      <td>0.049</td>\n",
       "      <td>3.1</td>\n",
       "      <td>-110.0</td>\n",
       "    </tr>\n",
       "    <tr>\n",
       "      <th>SATURN</th>\n",
       "      <td>568.0</td>\n",
       "      <td>120536.0</td>\n",
       "      <td>687.0</td>\n",
       "      <td>9.0</td>\n",
       "      <td>35.5</td>\n",
       "      <td>10.7</td>\n",
       "      <td>10.7</td>\n",
       "      <td>1433.5</td>\n",
       "      <td>1352.6</td>\n",
       "      <td>1514.5</td>\n",
       "      <td>10747.0</td>\n",
       "      <td>9.7</td>\n",
       "      <td>2.5</td>\n",
       "      <td>0.057</td>\n",
       "      <td>26.7</td>\n",
       "      <td>-140.0</td>\n",
       "    </tr>\n",
       "    <tr>\n",
       "      <th>URANUS</th>\n",
       "      <td>86.8</td>\n",
       "      <td>51118.0</td>\n",
       "      <td>1271.0</td>\n",
       "      <td>8.7</td>\n",
       "      <td>21.3</td>\n",
       "      <td>-17.2</td>\n",
       "      <td>17.2</td>\n",
       "      <td>2872.5</td>\n",
       "      <td>2741.3</td>\n",
       "      <td>3003.6</td>\n",
       "      <td>30589.0</td>\n",
       "      <td>6.8</td>\n",
       "      <td>0.8</td>\n",
       "      <td>0.046</td>\n",
       "      <td>97.8</td>\n",
       "      <td>-195.0</td>\n",
       "    </tr>\n",
       "    <tr>\n",
       "      <th>NEPTUNE</th>\n",
       "      <td>102.0</td>\n",
       "      <td>49528.0</td>\n",
       "      <td>1638.0</td>\n",
       "      <td>11.0</td>\n",
       "      <td>23.5</td>\n",
       "      <td>16.1</td>\n",
       "      <td>16.1</td>\n",
       "      <td>4495.1</td>\n",
       "      <td>4444.5</td>\n",
       "      <td>4545.7</td>\n",
       "      <td>59800.0</td>\n",
       "      <td>5.4</td>\n",
       "      <td>1.8</td>\n",
       "      <td>0.011</td>\n",
       "      <td>28.3</td>\n",
       "      <td>-200.0</td>\n",
       "    </tr>\n",
       "  </tbody>\n",
       "</table>\n",
       "</div>"
      ],
      "text/plain": [
       "         Mass (10^24kg)  Diameter (km)  Density (kg/m3)  Gravity (m/s2)  \\\n",
       "JUPITER          1898.0       142984.0           1326.0            23.1   \n",
       "SATURN            568.0       120536.0            687.0             9.0   \n",
       "URANUS             86.8        51118.0           1271.0             8.7   \n",
       "NEPTUNE           102.0        49528.0           1638.0            11.0   \n",
       "\n",
       "         Escape Velocity (km/s)  Rotation Period (hours)  \\\n",
       "JUPITER                    59.5                      9.9   \n",
       "SATURN                     35.5                     10.7   \n",
       "URANUS                     21.3                    -17.2   \n",
       "NEPTUNE                    23.5                     16.1   \n",
       "\n",
       "         Length of Day (hours)  Distance from Sun (106 km)  \\\n",
       "JUPITER                    9.9                       778.6   \n",
       "SATURN                    10.7                      1433.5   \n",
       "URANUS                    17.2                      2872.5   \n",
       "NEPTUNE                   16.1                      4495.1   \n",
       "\n",
       "         Perihelion (10^6 km)  Aphelion (10^6 km)  Orbital Period (days)  \\\n",
       "JUPITER                 740.5               816.6                 4331.0   \n",
       "SATURN                 1352.6              1514.5                10747.0   \n",
       "URANUS                 2741.3              3003.6                30589.0   \n",
       "NEPTUNE                4444.5              4545.7                59800.0   \n",
       "\n",
       "         Orbital Velocity (km/s)  Orbital Inclination (degrees)  \\\n",
       "JUPITER                     13.1                            1.3   \n",
       "SATURN                       9.7                            2.5   \n",
       "URANUS                       6.8                            0.8   \n",
       "NEPTUNE                      5.4                            1.8   \n",
       "\n",
       "         Orbital Eccentricity  Obliquity to Orbit (degrees)  \\\n",
       "JUPITER                 0.049                           3.1   \n",
       "SATURN                  0.057                          26.7   \n",
       "URANUS                  0.046                          97.8   \n",
       "NEPTUNE                 0.011                          28.3   \n",
       "\n",
       "         Mean Temperature (C)  \n",
       "JUPITER                -110.0  \n",
       "SATURN                 -140.0  \n",
       "URANUS                 -195.0  \n",
       "NEPTUNE                -200.0  "
      ]
     },
     "execution_count": 74,
     "metadata": {},
     "output_type": "execute_result"
    }
   ],
   "source": [
    "full_planet[full_planet['Mass (10^24kg)'] > full_planet['Mass (10^24kg)']['EARTH']]"
   ]
  },
  {
   "cell_type": "markdown",
   "metadata": {},
   "source": [
    "## _Panels_\n",
    "\n",
    "Finalmente, el _panel_ es la extensión natural del _dataframe_.  \n",
    "En otras palabras, un _panel_ es a una _dataframe_ lo que un _dataframe_ es a un _series_.  \n",
    "No será visto en esta ayudantía, ya que es simplemente una generalización y no será usado."
   ]
  },
  {
   "cell_type": "markdown",
   "metadata": {},
   "source": [
    "# CSV vs. JSON"
   ]
  },
  {
   "cell_type": "markdown",
   "metadata": {},
   "source": [
    "Hasta ahora, sólo hemos trabajo con el formato CSV. Pero también existen otros formatos.  \n",
    "Entre los más conocidos, podemos nombrar: **CSV**, TSV, XML, **JSON**, YAML.  \n",
    "Podemos agrupar estos formatos en dos categorías: los de tipo _tabla_ o los de tipo _árbol_.  \n",
    "Cualquier _dataset_ podría ser representado en cualquiera de estos formatos,\n",
    "pero siempre habrá un _trade-off_.  \n",
    "Hay que tener claro que **ninguno es mejor que otro**: no hay un _martillo dorado_.\n",
    "\n",
    "Por lo tanto, si el _dataset_ es de _naturaleza tabular_,\n",
    "CSV probablemente será una mejor opción que usar JSON.  \n",
    "Esto se debe a que no tendremos que repetir las llaves en el archivo, una y otra vez.  \n",
    "Por lo tanto, para _datasets rectangulares_, CSV debería tener un mejor _performance_ que JSON.  \n",
    "Veamos un ejemplo."
   ]
  },
  {
   "cell_type": "code",
   "execution_count": 176,
   "metadata": {
    "collapsed": false
   },
   "outputs": [
    {
     "data": {
      "text/html": [
       "<div>\n",
       "<table border=\"1\" class=\"dataframe\">\n",
       "  <thead>\n",
       "    <tr style=\"text-align: right;\">\n",
       "      <th></th>\n",
       "      <th>name</th>\n",
       "      <th>distance_from_sun</th>\n",
       "      <th>mass</th>\n",
       "    </tr>\n",
       "  </thead>\n",
       "  <tbody>\n",
       "    <tr>\n",
       "      <th>0</th>\n",
       "      <td>Mercurio</td>\n",
       "      <td>57909175.0</td>\n",
       "      <td>0.33</td>\n",
       "    </tr>\n",
       "    <tr>\n",
       "      <th>1</th>\n",
       "      <td>Venus</td>\n",
       "      <td>NaN</td>\n",
       "      <td>NaN</td>\n",
       "    </tr>\n",
       "    <tr>\n",
       "      <th>2</th>\n",
       "      <td>Tierra</td>\n",
       "      <td>NaN</td>\n",
       "      <td>NaN</td>\n",
       "    </tr>\n",
       "    <tr>\n",
       "      <th>3</th>\n",
       "      <td>Marte</td>\n",
       "      <td>NaN</td>\n",
       "      <td>NaN</td>\n",
       "    </tr>\n",
       "    <tr>\n",
       "      <th>4</th>\n",
       "      <td>Júpiter</td>\n",
       "      <td>NaN</td>\n",
       "      <td>NaN</td>\n",
       "    </tr>\n",
       "  </tbody>\n",
       "</table>\n",
       "</div>"
      ],
      "text/plain": [
       "       name  distance_from_sun  mass\n",
       "0  Mercurio         57909175.0  0.33\n",
       "1     Venus                NaN   NaN\n",
       "2    Tierra                NaN   NaN\n",
       "3     Marte                NaN   NaN\n",
       "4   Júpiter                NaN   NaN"
      ]
     },
     "execution_count": 176,
     "metadata": {},
     "output_type": "execute_result"
    }
   ],
   "source": [
    "pandas.read_csv('planet.csv')"
   ]
  },
  {
   "cell_type": "markdown",
   "metadata": {},
   "source": [
    "¿Cómo podríamos representar esto en un JSON?"
   ]
  },
  {
   "cell_type": "markdown",
   "metadata": {},
   "source": [
    "`planet.csv`\n",
    "\n",
    "```csv\n",
    "name,distance_from_sun,mass\n",
    "Mercurio,57909175,0.33\n",
    "Venus,,4.87\n",
    "Tierra,,5.97\n",
    "Marte,,0.642\n",
    "```"
   ]
  },
  {
   "cell_type": "markdown",
   "metadata": {},
   "source": [
    "```json\n",
    "[\n",
    "    {\n",
    "        \"name\": \"Mercurio\",\n",
    "        \"mass\": 0.33,\n",
    "        \"distance_from_sun\":\n",
    "    }, {\n",
    "        \"name\": \"Venus\",\n",
    "        \"mass\": 4.87,\n",
    "        \"distance_from_sun\":\n",
    "    }, {\n",
    "        \"name\": \"Tierra\",\n",
    "        \"mass\": 5.97,\n",
    "        \"distance_from_sun\":\n",
    "    }, {\n",
    "        \"name\": \"Marte\",\n",
    "        \"mass\": 0.642,\n",
    "        \"distance_from_sun\":\n",
    "    }\n",
    "]\n",
    "```"
   ]
  },
  {
   "cell_type": "markdown",
   "metadata": {},
   "source": [
    "Vemos que se repiten las llaves por cada dato nuevo.  \n",
    "Luego, para algo simple, JSON podría ser considerado como un formato ineficiente."
   ]
  },
  {
   "cell_type": "markdown",
   "metadata": {},
   "source": [
    "## Generar _datasets_\n",
    "\n",
    "Para generar un _dataset_ artificial, utilizaremos las funciones que nos ofrece `numpy`."
   ]
  },
  {
   "cell_type": "code",
   "execution_count": 1,
   "metadata": {
    "collapsed": false
   },
   "outputs": [],
   "source": [
    "# Importamos la librería _numpy_.\n",
    "import numpy\n",
    "from IPython.display import display"
   ]
  },
  {
   "cell_type": "markdown",
   "metadata": {},
   "source": [
    "Partamos por lo más simple: datos desde una distribución uniforme entre 0 y 1.  \n",
    "Para esto, `numpy` no sólo nos ofrece una forma de lograr esto, sino... cuatro.\n",
    "- `numpy.random.random_sample`\n",
    "- `numpy.random.random`\n",
    "- `numpy.random.ranf`\n",
    "- `numpy.random.sample`\n",
    "\n",
    "Los últimos tres simplemente llaman al primer método."
   ]
  },
  {
   "cell_type": "code",
   "execution_count": 2,
   "metadata": {
    "collapsed": false
   },
   "outputs": [
    {
     "data": {
      "text/plain": [
       "<function RandomState.random_sample>"
      ]
     },
     "metadata": {},
     "output_type": "display_data"
    },
    {
     "data": {
      "text/plain": [
       "<function RandomState.random_sample>"
      ]
     },
     "metadata": {},
     "output_type": "display_data"
    },
    {
     "data": {
      "text/plain": [
       "<function RandomState.random_sample>"
      ]
     },
     "metadata": {},
     "output_type": "display_data"
    },
    {
     "data": {
      "text/plain": [
       "<function RandomState.random_sample>"
      ]
     },
     "metadata": {},
     "output_type": "display_data"
    }
   ],
   "source": [
    "display(numpy.random.random_sample)\n",
    "display(numpy.random.random)\n",
    "display(numpy.random.ranf)\n",
    "display(numpy.random.sample)"
   ]
  },
  {
   "cell_type": "markdown",
   "metadata": {},
   "source": [
    "Usemos entonces esta función.  \n",
    "Generemos veinte datos aleatorios de intervalo `[0, 1)`."
   ]
  },
  {
   "cell_type": "code",
   "execution_count": 3,
   "metadata": {
    "collapsed": false
   },
   "outputs": [
    {
     "data": {
      "text/plain": [
       "array([ 0.91318818,  0.65374006,  0.29519193,  0.71688723,  0.71685812,\n",
       "        0.50523542,  0.70538865,  0.8286971 ,  0.24227895,  0.49363939,\n",
       "        0.83456159,  0.55670626,  0.77342692,  0.35890006,  0.79484488,\n",
       "        0.88915194,  0.38087787,  0.35287447,  0.31078418,  0.41702572])"
      ]
     },
     "execution_count": 3,
     "metadata": {},
     "output_type": "execute_result"
    }
   ],
   "source": [
    "SIZE = 20\n",
    "# entregamos el tamaño del 'ndarray' que queremos fabricar.\n",
    "numpy.random.random(SIZE)"
   ]
  },
  {
   "cell_type": "markdown",
   "metadata": {},
   "source": [
    "Pero también podemos entregarles listas de enteros.  \n",
    "Esto nos sirve para generar datos en más dimensiones.  \n",
    "Por ejemplo, si entregamos una tupla de dos números,  \n",
    "entonces obtendremos una matriz de números aleatorios.   \n",
    "De la misma forma, si entregamos una 3-tupla de números,  \n",
    "obtendremos _una caja de zapatos_ con números.  \n",
    "Y así, al infinito y más allá..."
   ]
  },
  {
   "cell_type": "code",
   "execution_count": 4,
   "metadata": {
    "collapsed": false
   },
   "outputs": [
    {
     "data": {
      "text/plain": [
       "array([[[ 0.1390982 ,  0.2012749 ],\n",
       "        [ 0.16329384,  0.06666804],\n",
       "        [ 0.58982779,  0.94207461],\n",
       "        [ 0.2140667 ,  0.29904582],\n",
       "        [ 0.53899557,  0.73673093]],\n",
       "\n",
       "       [[ 0.98124971,  0.15437013],\n",
       "        [ 0.59764236,  0.96777141],\n",
       "        [ 0.29317517,  0.23969726],\n",
       "        [ 0.84583703,  0.8434857 ],\n",
       "        [ 0.30111534,  0.16424641]],\n",
       "\n",
       "       [[ 0.14800657,  0.85717907],\n",
       "        [ 0.3846673 ,  0.70271613],\n",
       "        [ 0.27286117,  0.83530114],\n",
       "        [ 0.23616631,  0.16742024],\n",
       "        [ 0.64461029,  0.7771685 ]]])"
      ]
     },
     "execution_count": 4,
     "metadata": {},
     "output_type": "execute_result"
    }
   ],
   "source": [
    "SIZE_ = (3, 5, 2)\n",
    "numpy.random.random(SIZE_)"
   ]
  },
  {
   "cell_type": "markdown",
   "metadata": {},
   "source": [
    "**ProTip™:** como azúcar sintáctico, `numpy` también ofrece `numpy.random.rand`,  \n",
    "que genera lo mismo, sólo que no recibe una tupla, sino cada dimensión como entero."
   ]
  },
  {
   "cell_type": "code",
   "execution_count": 5,
   "metadata": {
    "collapsed": false
   },
   "outputs": [
    {
     "data": {
      "text/plain": [
       "array([[[ 0.87707224,  0.92981279],\n",
       "        [ 0.19482878,  0.02871821],\n",
       "        [ 0.75563848,  0.35675922],\n",
       "        [ 0.95755281,  0.48969424],\n",
       "        [ 0.80269638,  0.58978013]],\n",
       "\n",
       "       [[ 0.31106089,  0.33319937],\n",
       "        [ 0.66135936,  0.25461762],\n",
       "        [ 0.60555989,  0.8302981 ],\n",
       "        [ 0.46866982,  0.53859425],\n",
       "        [ 0.13381076,  0.68664964]],\n",
       "\n",
       "       [[ 0.86242625,  0.02693664],\n",
       "        [ 0.5456079 ,  0.65171151],\n",
       "        [ 0.75129163,  0.99775566],\n",
       "        [ 0.76893333,  0.71175763],\n",
       "        [ 0.9639042 ,  0.22121439]]])"
      ]
     },
     "execution_count": 5,
     "metadata": {},
     "output_type": "execute_result"
    }
   ],
   "source": [
    "numpy.random.rand(3, 5, 2)"
   ]
  },
  {
   "cell_type": "markdown",
   "metadata": {},
   "source": [
    "Muy bonito, pero... ¿cómo hacemos para cambiar el intervalo?  \n",
    "Muy fácil, simplemente basta hacer un _cambio de distribución_.  \n",
    "Por ejemplo, digamos que queremos números entre [0, 42).  \n",
    "Para esto, si tenemos un generador uniforme estándar U(0,1),\n",
    "sólo basta con multiplicar por 42."
   ]
  },
  {
   "cell_type": "code",
   "execution_count": 6,
   "metadata": {
    "collapsed": false
   },
   "outputs": [
    {
     "data": {
      "text/plain": [
       "array([ 28.11263655,  28.72991313,  12.5369133 ,  20.89285675,\n",
       "         8.37015362,  25.30022764,  19.3148054 ,  12.91154446,\n",
       "        33.86040209,   1.04201221,  22.37591381,  27.73362018,\n",
       "         6.20663226,  18.32279619,  29.71136006,   9.98006004,\n",
       "         0.81770169,  28.51354661,  30.6148176 ,   0.15167896])"
      ]
     },
     "execution_count": 6,
     "metadata": {},
     "output_type": "execute_result"
    }
   ],
   "source": [
    "42 * numpy.random.random(SIZE)"
   ]
  },
  {
   "cell_type": "markdown",
   "metadata": {},
   "source": [
    "Generalizando este método, si queremos obtener datos uniformes entres [0, K)  \n",
    "tenemos que...\n",
    "$$ U(0,K) = K \\cdot U(0,1) $$"
   ]
  },
  {
   "cell_type": "markdown",
   "metadata": {},
   "source": [
    "¿Y si ahora queremos generar notas, es decir, números entre 1 y 7?  \n",
    "Bueno, podríamos hacerlo mismo con K = 6, y luego sumarle uno a cada nota."
   ]
  },
  {
   "cell_type": "code",
   "execution_count": 7,
   "metadata": {
    "collapsed": false
   },
   "outputs": [
    {
     "data": {
      "text/plain": [
       "array([ 4.03083752,  5.31227952,  6.86787118,  5.37202043,  3.82336369,\n",
       "        4.46695502,  5.74429535,  4.57428445,  5.82724035,  4.98181075,\n",
       "        5.36685578,  2.16379996,  2.92345374,  1.63869107,  6.72617408,\n",
       "        2.41735202,  2.80573671,  2.20147301,  3.17396295,  5.02423475])"
      ]
     },
     "execution_count": 7,
     "metadata": {},
     "output_type": "execute_result"
    }
   ],
   "source": [
    "grades = 1 + (6 * numpy.random.random(SIZE))\n",
    "grades"
   ]
  },
  {
   "cell_type": "markdown",
   "metadata": {},
   "source": [
    "Calculemos algunas estadísticas simples."
   ]
  },
  {
   "cell_type": "code",
   "execution_count": 8,
   "metadata": {
    "collapsed": false
   },
   "outputs": [
    {
     "name": "stdout",
     "output_type": "stream",
     "text": [
      "La nota mínima del curso fue: 1.64\n",
      "La nota máxima del curso fue: 6.87\n",
      "El promedio del curso fue: 4.27\n"
     ]
    }
   ],
   "source": [
    "print(\"La nota mínima del curso fue: {:.2f}\".format(grades.min()))\n",
    "print(\"La nota máxima del curso fue: {:.2f}\".format(grades.max()))\n",
    "print(\"El promedio del curso fue: {:.2f}\".format(grades.mean()))"
   ]
  },
  {
   "cell_type": "markdown",
   "metadata": {},
   "source": [
    "¿Pero cómo hacemos ahora si es que queremos datos entre -273 y 100?  \n",
    "Aplicando la misma intuición, vemos que el rango del intervalo es de 373  \n",
    "y a que a todos los números deberíamos restarles 273, para hacer el _shift_.  \n",
    "Por lo tanto, formalizando esto, llegamos a esta mayor generalización:  \n",
    "$$ U(a,b) = a + (b - a) \\cdot U(0,1) $$"
   ]
  },
  {
   "cell_type": "code",
   "execution_count": 9,
   "metadata": {
    "collapsed": false
   },
   "outputs": [
    {
     "data": {
      "text/plain": [
       "array([-257.1078897 , -260.85907474, -253.97359733, -208.90887518,\n",
       "       -174.55524062,  -96.60976726,   70.69515236,   88.74692346,\n",
       "        -72.62205339,   -7.1311679 , -204.10588208,   74.5899634 ,\n",
       "       -173.9270131 , -222.90127056,  -65.01896837,  -77.13356214,\n",
       "         -1.37970575,  -62.80704791, -265.87400934,  -74.05707493])"
      ]
     },
     "execution_count": 9,
     "metadata": {},
     "output_type": "execute_result"
    }
   ],
   "source": [
    "A = -273\n",
    "B =  100\n",
    "A + (B - A) * numpy.random.random(SIZE)"
   ]
  },
  {
   "cell_type": "markdown",
   "metadata": {},
   "source": [
    "Y para que esto sea un poco más creíble..."
   ]
  },
  {
   "cell_type": "code",
   "execution_count": 10,
   "metadata": {
    "collapsed": false
   },
   "outputs": [
    {
     "name": "stdout",
     "output_type": "stream",
     "text": [
      "El mínimo es: -272.896\n",
      "El máximo es: 99.992\n"
     ]
    }
   ],
   "source": [
    "print(\"El mínimo es: {:.3f}\".format(A + (B - A) * numpy.random.random(1000).min()))\n",
    "print(\"El máximo es: {:.3f}\".format(A + (B - A) * numpy.random.random(1000).max()))"
   ]
  },
  {
   "cell_type": "markdown",
   "metadata": {},
   "source": [
    "Digamos ahora que queremos generar enteros"
   ]
  },
  {
   "cell_type": "markdown",
   "metadata": {},
   "source": [
    "Ahora bien, si queremos generar distribuciones más complejas,  \n",
    "podemos echar un vistazo por [acá](https://docs.scipy.org/doc/numpy/reference/routines.random.html#distributions).\n",
    "\n",
    "En este caso, usaremos una distribución normal."
   ]
  },
  {
   "cell_type": "code",
   "execution_count": 11,
   "metadata": {
    "collapsed": false
   },
   "outputs": [
    {
     "data": {
      "text/plain": [
       "-1.037769965123754"
      ]
     },
     "execution_count": 11,
     "metadata": {},
     "output_type": "execute_result"
    }
   ],
   "source": [
    "numpy.random.normal()"
   ]
  },
  {
   "cell_type": "markdown",
   "metadata": {},
   "source": [
    "Si es que no le damos los parámetros (media, desviación estándar y tamaño de muestra)  \n",
    "`numpy`, por defecto, entregará una única muestra sacada de una normal estándar."
   ]
  },
  {
   "cell_type": "code",
   "execution_count": 12,
   "metadata": {
    "collapsed": false
   },
   "outputs": [
    {
     "data": {
      "text/plain": [
       "array([ 3.78259583,  3.30596912,  4.07323801,  4.34660431,  3.12314982])"
      ]
     },
     "execution_count": 12,
     "metadata": {},
     "output_type": "execute_result"
    }
   ],
   "source": [
    "# loc   --> media\n",
    "# scale --> desviación estándar\n",
    "# size  --> tamaño de la muestra (igual que con )\n",
    "LOC   = 3.5\n",
    "SCALE = 0.8\n",
    "SIZE  = 5\n",
    "numpy.random.normal(loc=LOC, scale=SCALE, size=SIZE)"
   ]
  },
  {
   "cell_type": "markdown",
   "metadata": {},
   "source": [
    "Con esto que aprendimos, hagamos algo más concreto.  \n",
    "Generemos una base de datos sintéticos de personas con ciertos atributos."
   ]
  },
  {
   "cell_type": "code",
   "execution_count": 15,
   "metadata": {
    "collapsed": false
   },
   "outputs": [
    {
     "data": {
      "text/plain": [
       "0        7\n",
       "1       52\n",
       "2       30\n",
       "3       44\n",
       "4       53\n",
       "5        7\n",
       "6       33\n",
       "7       34\n",
       "8       25\n",
       "9       39\n",
       "10      37\n",
       "11      -6\n",
       "12      54\n",
       "13      11\n",
       "14      16\n",
       "15      65\n",
       "16      37\n",
       "17      -1\n",
       "18      44\n",
       "19     -51\n",
       "20      62\n",
       "21      54\n",
       "22       9\n",
       "23      40\n",
       "24      26\n",
       "25       1\n",
       "26      36\n",
       "27      44\n",
       "28      36\n",
       "29      -3\n",
       "        ..\n",
       "4970    33\n",
       "4971    14\n",
       "4972    36\n",
       "4973    16\n",
       "4974    28\n",
       "4975    57\n",
       "4976    37\n",
       "4977    16\n",
       "4978    54\n",
       "4979   -14\n",
       "4980    50\n",
       "4981    -5\n",
       "4982    63\n",
       "4983   -19\n",
       "4984    20\n",
       "4985     7\n",
       "4986    28\n",
       "4987    34\n",
       "4988    24\n",
       "4989     6\n",
       "4990    25\n",
       "4991    21\n",
       "4992    60\n",
       "4993    34\n",
       "4994    52\n",
       "4995    26\n",
       "4996    23\n",
       "4997     5\n",
       "4998    15\n",
       "4999    31\n",
       "Name: age, dtype: int64"
      ]
     },
     "execution_count": 15,
     "metadata": {},
     "output_type": "execute_result"
    }
   ],
   "source": [
    "N_DATA = 5000\n",
    "def male_or_female(datum):\n",
    "    if datum <= 48:\n",
    "        return 'M'\n",
    "    else:\n",
    "        return 'F'\n",
    "\n",
    "# o de forma más sucinta.\n",
    "def male_or_female(datum):\n",
    "    return 'M' if datum <= 48 else 'F'\n",
    "\n",
    "# o de forma más sucinta, usando _lambda functions_.\n",
    "male_or_female = lambda datum: 'M' if datum <= 48 else 'F'\n",
    "\n",
    "# género\n",
    "sex = pandas.Series(numpy.random.randint(low=0, high=100, size=N_DATA), name='sex')\n",
    "sex = sex.apply(male_or_female)\n",
    "\n",
    "# edad\n",
    "age = pandas.Series(numpy.random.normal(loc=35, scale=22, size=N_DATA), name='age').astype(int)\n",
    "age"
   ]
  },
  {
   "cell_type": "markdown",
   "metadata": {},
   "source": [
    "Veamos el rango que obtenemos."
   ]
  },
  {
   "cell_type": "code",
   "execution_count": 16,
   "metadata": {
    "collapsed": false
   },
   "outputs": [
    {
     "data": {
      "text/plain": [
       "34.711199999999998"
      ]
     },
     "metadata": {},
     "output_type": "display_data"
    },
    {
     "data": {
      "text/plain": [
       "-51"
      ]
     },
     "metadata": {},
     "output_type": "display_data"
    },
    {
     "data": {
      "text/plain": [
       "105"
      ]
     },
     "metadata": {},
     "output_type": "display_data"
    }
   ],
   "source": [
    "display(age.mean())\n",
    "display(age.min())\n",
    "display(age.max())"
   ]
  },
  {
   "cell_type": "markdown",
   "metadata": {},
   "source": [
    "Bueno, claramente, tenemos un problema, porque no deberían haber personas con edades negativas,  \n",
    "ni gente tan longeva.  \n",
    "Tenemos que arreglarlo, pero primero... juntemos esto en un _dataframe_.\n",
    "\n",
    "(**Nota:** pudimos haber arreglado esto usando una distribución normal truncada que ofrece `scipy`;  \n",
    "sin embargo, para efectos pedagógicos, haremos esto _artesanalmente_ para poner en práctica lo recién aprendido.)"
   ]
  },
  {
   "cell_type": "code",
   "execution_count": 17,
   "metadata": {
    "collapsed": false
   },
   "outputs": [
    {
     "data": {
      "text/html": [
       "<div>\n",
       "<table border=\"1\" class=\"dataframe\">\n",
       "  <thead>\n",
       "    <tr style=\"text-align: right;\">\n",
       "      <th></th>\n",
       "      <th>sex</th>\n",
       "      <th>age</th>\n",
       "    </tr>\n",
       "  </thead>\n",
       "  <tbody>\n",
       "    <tr>\n",
       "      <th>0</th>\n",
       "      <td>M</td>\n",
       "      <td>7</td>\n",
       "    </tr>\n",
       "    <tr>\n",
       "      <th>1</th>\n",
       "      <td>M</td>\n",
       "      <td>52</td>\n",
       "    </tr>\n",
       "    <tr>\n",
       "      <th>2</th>\n",
       "      <td>F</td>\n",
       "      <td>30</td>\n",
       "    </tr>\n",
       "    <tr>\n",
       "      <th>3</th>\n",
       "      <td>F</td>\n",
       "      <td>44</td>\n",
       "    </tr>\n",
       "    <tr>\n",
       "      <th>4</th>\n",
       "      <td>F</td>\n",
       "      <td>53</td>\n",
       "    </tr>\n",
       "    <tr>\n",
       "      <th>5</th>\n",
       "      <td>M</td>\n",
       "      <td>7</td>\n",
       "    </tr>\n",
       "    <tr>\n",
       "      <th>6</th>\n",
       "      <td>F</td>\n",
       "      <td>33</td>\n",
       "    </tr>\n",
       "    <tr>\n",
       "      <th>7</th>\n",
       "      <td>F</td>\n",
       "      <td>34</td>\n",
       "    </tr>\n",
       "    <tr>\n",
       "      <th>8</th>\n",
       "      <td>M</td>\n",
       "      <td>25</td>\n",
       "    </tr>\n",
       "    <tr>\n",
       "      <th>9</th>\n",
       "      <td>M</td>\n",
       "      <td>39</td>\n",
       "    </tr>\n",
       "    <tr>\n",
       "      <th>10</th>\n",
       "      <td>F</td>\n",
       "      <td>37</td>\n",
       "    </tr>\n",
       "    <tr>\n",
       "      <th>11</th>\n",
       "      <td>F</td>\n",
       "      <td>-6</td>\n",
       "    </tr>\n",
       "    <tr>\n",
       "      <th>12</th>\n",
       "      <td>M</td>\n",
       "      <td>54</td>\n",
       "    </tr>\n",
       "    <tr>\n",
       "      <th>13</th>\n",
       "      <td>M</td>\n",
       "      <td>11</td>\n",
       "    </tr>\n",
       "    <tr>\n",
       "      <th>14</th>\n",
       "      <td>F</td>\n",
       "      <td>16</td>\n",
       "    </tr>\n",
       "    <tr>\n",
       "      <th>15</th>\n",
       "      <td>F</td>\n",
       "      <td>65</td>\n",
       "    </tr>\n",
       "    <tr>\n",
       "      <th>16</th>\n",
       "      <td>F</td>\n",
       "      <td>37</td>\n",
       "    </tr>\n",
       "    <tr>\n",
       "      <th>17</th>\n",
       "      <td>M</td>\n",
       "      <td>-1</td>\n",
       "    </tr>\n",
       "    <tr>\n",
       "      <th>18</th>\n",
       "      <td>M</td>\n",
       "      <td>44</td>\n",
       "    </tr>\n",
       "    <tr>\n",
       "      <th>19</th>\n",
       "      <td>F</td>\n",
       "      <td>-51</td>\n",
       "    </tr>\n",
       "    <tr>\n",
       "      <th>20</th>\n",
       "      <td>M</td>\n",
       "      <td>62</td>\n",
       "    </tr>\n",
       "    <tr>\n",
       "      <th>21</th>\n",
       "      <td>F</td>\n",
       "      <td>54</td>\n",
       "    </tr>\n",
       "    <tr>\n",
       "      <th>22</th>\n",
       "      <td>F</td>\n",
       "      <td>9</td>\n",
       "    </tr>\n",
       "    <tr>\n",
       "      <th>23</th>\n",
       "      <td>F</td>\n",
       "      <td>40</td>\n",
       "    </tr>\n",
       "    <tr>\n",
       "      <th>24</th>\n",
       "      <td>M</td>\n",
       "      <td>26</td>\n",
       "    </tr>\n",
       "    <tr>\n",
       "      <th>25</th>\n",
       "      <td>F</td>\n",
       "      <td>1</td>\n",
       "    </tr>\n",
       "    <tr>\n",
       "      <th>26</th>\n",
       "      <td>M</td>\n",
       "      <td>36</td>\n",
       "    </tr>\n",
       "    <tr>\n",
       "      <th>27</th>\n",
       "      <td>F</td>\n",
       "      <td>44</td>\n",
       "    </tr>\n",
       "    <tr>\n",
       "      <th>28</th>\n",
       "      <td>F</td>\n",
       "      <td>36</td>\n",
       "    </tr>\n",
       "    <tr>\n",
       "      <th>29</th>\n",
       "      <td>F</td>\n",
       "      <td>-3</td>\n",
       "    </tr>\n",
       "    <tr>\n",
       "      <th>...</th>\n",
       "      <td>...</td>\n",
       "      <td>...</td>\n",
       "    </tr>\n",
       "    <tr>\n",
       "      <th>4970</th>\n",
       "      <td>M</td>\n",
       "      <td>33</td>\n",
       "    </tr>\n",
       "    <tr>\n",
       "      <th>4971</th>\n",
       "      <td>M</td>\n",
       "      <td>14</td>\n",
       "    </tr>\n",
       "    <tr>\n",
       "      <th>4972</th>\n",
       "      <td>M</td>\n",
       "      <td>36</td>\n",
       "    </tr>\n",
       "    <tr>\n",
       "      <th>4973</th>\n",
       "      <td>F</td>\n",
       "      <td>16</td>\n",
       "    </tr>\n",
       "    <tr>\n",
       "      <th>4974</th>\n",
       "      <td>F</td>\n",
       "      <td>28</td>\n",
       "    </tr>\n",
       "    <tr>\n",
       "      <th>4975</th>\n",
       "      <td>M</td>\n",
       "      <td>57</td>\n",
       "    </tr>\n",
       "    <tr>\n",
       "      <th>4976</th>\n",
       "      <td>F</td>\n",
       "      <td>37</td>\n",
       "    </tr>\n",
       "    <tr>\n",
       "      <th>4977</th>\n",
       "      <td>M</td>\n",
       "      <td>16</td>\n",
       "    </tr>\n",
       "    <tr>\n",
       "      <th>4978</th>\n",
       "      <td>F</td>\n",
       "      <td>54</td>\n",
       "    </tr>\n",
       "    <tr>\n",
       "      <th>4979</th>\n",
       "      <td>M</td>\n",
       "      <td>-14</td>\n",
       "    </tr>\n",
       "    <tr>\n",
       "      <th>4980</th>\n",
       "      <td>M</td>\n",
       "      <td>50</td>\n",
       "    </tr>\n",
       "    <tr>\n",
       "      <th>4981</th>\n",
       "      <td>F</td>\n",
       "      <td>-5</td>\n",
       "    </tr>\n",
       "    <tr>\n",
       "      <th>4982</th>\n",
       "      <td>F</td>\n",
       "      <td>63</td>\n",
       "    </tr>\n",
       "    <tr>\n",
       "      <th>4983</th>\n",
       "      <td>F</td>\n",
       "      <td>-19</td>\n",
       "    </tr>\n",
       "    <tr>\n",
       "      <th>4984</th>\n",
       "      <td>M</td>\n",
       "      <td>20</td>\n",
       "    </tr>\n",
       "    <tr>\n",
       "      <th>4985</th>\n",
       "      <td>F</td>\n",
       "      <td>7</td>\n",
       "    </tr>\n",
       "    <tr>\n",
       "      <th>4986</th>\n",
       "      <td>M</td>\n",
       "      <td>28</td>\n",
       "    </tr>\n",
       "    <tr>\n",
       "      <th>4987</th>\n",
       "      <td>M</td>\n",
       "      <td>34</td>\n",
       "    </tr>\n",
       "    <tr>\n",
       "      <th>4988</th>\n",
       "      <td>F</td>\n",
       "      <td>24</td>\n",
       "    </tr>\n",
       "    <tr>\n",
       "      <th>4989</th>\n",
       "      <td>M</td>\n",
       "      <td>6</td>\n",
       "    </tr>\n",
       "    <tr>\n",
       "      <th>4990</th>\n",
       "      <td>M</td>\n",
       "      <td>25</td>\n",
       "    </tr>\n",
       "    <tr>\n",
       "      <th>4991</th>\n",
       "      <td>M</td>\n",
       "      <td>21</td>\n",
       "    </tr>\n",
       "    <tr>\n",
       "      <th>4992</th>\n",
       "      <td>M</td>\n",
       "      <td>60</td>\n",
       "    </tr>\n",
       "    <tr>\n",
       "      <th>4993</th>\n",
       "      <td>M</td>\n",
       "      <td>34</td>\n",
       "    </tr>\n",
       "    <tr>\n",
       "      <th>4994</th>\n",
       "      <td>M</td>\n",
       "      <td>52</td>\n",
       "    </tr>\n",
       "    <tr>\n",
       "      <th>4995</th>\n",
       "      <td>F</td>\n",
       "      <td>26</td>\n",
       "    </tr>\n",
       "    <tr>\n",
       "      <th>4996</th>\n",
       "      <td>F</td>\n",
       "      <td>23</td>\n",
       "    </tr>\n",
       "    <tr>\n",
       "      <th>4997</th>\n",
       "      <td>M</td>\n",
       "      <td>5</td>\n",
       "    </tr>\n",
       "    <tr>\n",
       "      <th>4998</th>\n",
       "      <td>F</td>\n",
       "      <td>15</td>\n",
       "    </tr>\n",
       "    <tr>\n",
       "      <th>4999</th>\n",
       "      <td>M</td>\n",
       "      <td>31</td>\n",
       "    </tr>\n",
       "  </tbody>\n",
       "</table>\n",
       "<p>5000 rows × 2 columns</p>\n",
       "</div>"
      ],
      "text/plain": [
       "     sex  age\n",
       "0      M    7\n",
       "1      M   52\n",
       "2      F   30\n",
       "3      F   44\n",
       "4      F   53\n",
       "5      M    7\n",
       "6      F   33\n",
       "7      F   34\n",
       "8      M   25\n",
       "9      M   39\n",
       "10     F   37\n",
       "11     F   -6\n",
       "12     M   54\n",
       "13     M   11\n",
       "14     F   16\n",
       "15     F   65\n",
       "16     F   37\n",
       "17     M   -1\n",
       "18     M   44\n",
       "19     F  -51\n",
       "20     M   62\n",
       "21     F   54\n",
       "22     F    9\n",
       "23     F   40\n",
       "24     M   26\n",
       "25     F    1\n",
       "26     M   36\n",
       "27     F   44\n",
       "28     F   36\n",
       "29     F   -3\n",
       "...   ..  ...\n",
       "4970   M   33\n",
       "4971   M   14\n",
       "4972   M   36\n",
       "4973   F   16\n",
       "4974   F   28\n",
       "4975   M   57\n",
       "4976   F   37\n",
       "4977   M   16\n",
       "4978   F   54\n",
       "4979   M  -14\n",
       "4980   M   50\n",
       "4981   F   -5\n",
       "4982   F   63\n",
       "4983   F  -19\n",
       "4984   M   20\n",
       "4985   F    7\n",
       "4986   M   28\n",
       "4987   M   34\n",
       "4988   F   24\n",
       "4989   M    6\n",
       "4990   M   25\n",
       "4991   M   21\n",
       "4992   M   60\n",
       "4993   M   34\n",
       "4994   M   52\n",
       "4995   F   26\n",
       "4996   F   23\n",
       "4997   M    5\n",
       "4998   F   15\n",
       "4999   M   31\n",
       "\n",
       "[5000 rows x 2 columns]"
      ]
     },
     "execution_count": 17,
     "metadata": {},
     "output_type": "execute_result"
    }
   ],
   "source": [
    "chilean_people = pandas.concat([sex, age], axis=1)\n",
    "chilean_people"
   ]
  },
  {
   "cell_type": "markdown",
   "metadata": {},
   "source": [
    "Ahora sí, trunquemos las edades con valores razonables."
   ]
  },
  {
   "cell_type": "code",
   "execution_count": 18,
   "metadata": {
    "collapsed": false
   },
   "outputs": [
    {
     "data": {
      "text/plain": [
       "37.015575668280363"
      ]
     },
     "metadata": {},
     "output_type": "display_data"
    },
    {
     "data": {
      "text/plain": [
       "0"
      ]
     },
     "metadata": {},
     "output_type": "display_data"
    },
    {
     "data": {
      "text/plain": [
       "105"
      ]
     },
     "metadata": {},
     "output_type": "display_data"
    }
   ],
   "source": [
    "chilean_people = chilean_people[(0 <= chilean_people.age) & (chilean_people.age <= 110)]\n",
    "display(chilean_people.age.mean())\n",
    "display(chilean_people.age.min())\n",
    "display(chilean_people.age.max())"
   ]
  },
  {
   "cell_type": "markdown",
   "metadata": {},
   "source": [
    "Finamente, agreguemos un tercer atributo: la altura de la persona.  \n",
    "Esta vez, generemos este valor de forma dependiente al género de la persona:  \n",
    "ya que la estatura de un hombre es mayor a la de una mujer.\n",
    "\n",
    "(Fuente: https://en.wikipedia.org/wiki/List_of_average_human_height_worldwide)"
   ]
  },
  {
   "cell_type": "code",
   "execution_count": 19,
   "metadata": {
    "collapsed": false
   },
   "outputs": [
    {
     "data": {
      "text/html": [
       "<div>\n",
       "<table border=\"1\" class=\"dataframe\">\n",
       "  <thead>\n",
       "    <tr style=\"text-align: right;\">\n",
       "      <th></th>\n",
       "      <th>sex</th>\n",
       "      <th>age</th>\n",
       "      <th>height_cm</th>\n",
       "    </tr>\n",
       "  </thead>\n",
       "  <tbody>\n",
       "    <tr>\n",
       "      <th>0</th>\n",
       "      <td>M</td>\n",
       "      <td>7</td>\n",
       "      <td>163</td>\n",
       "    </tr>\n",
       "    <tr>\n",
       "      <th>1</th>\n",
       "      <td>M</td>\n",
       "      <td>52</td>\n",
       "      <td>191</td>\n",
       "    </tr>\n",
       "    <tr>\n",
       "      <th>2</th>\n",
       "      <td>F</td>\n",
       "      <td>30</td>\n",
       "      <td>153</td>\n",
       "    </tr>\n",
       "    <tr>\n",
       "      <th>3</th>\n",
       "      <td>F</td>\n",
       "      <td>44</td>\n",
       "      <td>149</td>\n",
       "    </tr>\n",
       "    <tr>\n",
       "      <th>4</th>\n",
       "      <td>F</td>\n",
       "      <td>53</td>\n",
       "      <td>160</td>\n",
       "    </tr>\n",
       "    <tr>\n",
       "      <th>5</th>\n",
       "      <td>M</td>\n",
       "      <td>7</td>\n",
       "      <td>160</td>\n",
       "    </tr>\n",
       "    <tr>\n",
       "      <th>6</th>\n",
       "      <td>F</td>\n",
       "      <td>33</td>\n",
       "      <td>157</td>\n",
       "    </tr>\n",
       "    <tr>\n",
       "      <th>7</th>\n",
       "      <td>F</td>\n",
       "      <td>34</td>\n",
       "      <td>166</td>\n",
       "    </tr>\n",
       "    <tr>\n",
       "      <th>8</th>\n",
       "      <td>M</td>\n",
       "      <td>25</td>\n",
       "      <td>185</td>\n",
       "    </tr>\n",
       "    <tr>\n",
       "      <th>9</th>\n",
       "      <td>M</td>\n",
       "      <td>39</td>\n",
       "      <td>189</td>\n",
       "    </tr>\n",
       "    <tr>\n",
       "      <th>10</th>\n",
       "      <td>F</td>\n",
       "      <td>37</td>\n",
       "      <td>154</td>\n",
       "    </tr>\n",
       "    <tr>\n",
       "      <th>12</th>\n",
       "      <td>M</td>\n",
       "      <td>54</td>\n",
       "      <td>180</td>\n",
       "    </tr>\n",
       "    <tr>\n",
       "      <th>13</th>\n",
       "      <td>M</td>\n",
       "      <td>11</td>\n",
       "      <td>182</td>\n",
       "    </tr>\n",
       "    <tr>\n",
       "      <th>14</th>\n",
       "      <td>F</td>\n",
       "      <td>16</td>\n",
       "      <td>151</td>\n",
       "    </tr>\n",
       "    <tr>\n",
       "      <th>15</th>\n",
       "      <td>F</td>\n",
       "      <td>65</td>\n",
       "      <td>161</td>\n",
       "    </tr>\n",
       "    <tr>\n",
       "      <th>16</th>\n",
       "      <td>F</td>\n",
       "      <td>37</td>\n",
       "      <td>155</td>\n",
       "    </tr>\n",
       "    <tr>\n",
       "      <th>18</th>\n",
       "      <td>M</td>\n",
       "      <td>44</td>\n",
       "      <td>174</td>\n",
       "    </tr>\n",
       "    <tr>\n",
       "      <th>20</th>\n",
       "      <td>M</td>\n",
       "      <td>62</td>\n",
       "      <td>182</td>\n",
       "    </tr>\n",
       "    <tr>\n",
       "      <th>21</th>\n",
       "      <td>F</td>\n",
       "      <td>54</td>\n",
       "      <td>159</td>\n",
       "    </tr>\n",
       "    <tr>\n",
       "      <th>22</th>\n",
       "      <td>F</td>\n",
       "      <td>9</td>\n",
       "      <td>159</td>\n",
       "    </tr>\n",
       "    <tr>\n",
       "      <th>23</th>\n",
       "      <td>F</td>\n",
       "      <td>40</td>\n",
       "      <td>161</td>\n",
       "    </tr>\n",
       "    <tr>\n",
       "      <th>24</th>\n",
       "      <td>M</td>\n",
       "      <td>26</td>\n",
       "      <td>181</td>\n",
       "    </tr>\n",
       "    <tr>\n",
       "      <th>25</th>\n",
       "      <td>F</td>\n",
       "      <td>1</td>\n",
       "      <td>149</td>\n",
       "    </tr>\n",
       "    <tr>\n",
       "      <th>26</th>\n",
       "      <td>M</td>\n",
       "      <td>36</td>\n",
       "      <td>149</td>\n",
       "    </tr>\n",
       "    <tr>\n",
       "      <th>27</th>\n",
       "      <td>F</td>\n",
       "      <td>44</td>\n",
       "      <td>158</td>\n",
       "    </tr>\n",
       "    <tr>\n",
       "      <th>28</th>\n",
       "      <td>F</td>\n",
       "      <td>36</td>\n",
       "      <td>140</td>\n",
       "    </tr>\n",
       "    <tr>\n",
       "      <th>30</th>\n",
       "      <td>F</td>\n",
       "      <td>47</td>\n",
       "      <td>170</td>\n",
       "    </tr>\n",
       "    <tr>\n",
       "      <th>31</th>\n",
       "      <td>F</td>\n",
       "      <td>66</td>\n",
       "      <td>146</td>\n",
       "    </tr>\n",
       "    <tr>\n",
       "      <th>32</th>\n",
       "      <td>M</td>\n",
       "      <td>39</td>\n",
       "      <td>153</td>\n",
       "    </tr>\n",
       "    <tr>\n",
       "      <th>33</th>\n",
       "      <td>M</td>\n",
       "      <td>35</td>\n",
       "      <td>171</td>\n",
       "    </tr>\n",
       "    <tr>\n",
       "      <th>...</th>\n",
       "      <td>...</td>\n",
       "      <td>...</td>\n",
       "      <td>...</td>\n",
       "    </tr>\n",
       "    <tr>\n",
       "      <th>4967</th>\n",
       "      <td>F</td>\n",
       "      <td>50</td>\n",
       "      <td>141</td>\n",
       "    </tr>\n",
       "    <tr>\n",
       "      <th>4968</th>\n",
       "      <td>M</td>\n",
       "      <td>79</td>\n",
       "      <td>182</td>\n",
       "    </tr>\n",
       "    <tr>\n",
       "      <th>4969</th>\n",
       "      <td>F</td>\n",
       "      <td>25</td>\n",
       "      <td>149</td>\n",
       "    </tr>\n",
       "    <tr>\n",
       "      <th>4970</th>\n",
       "      <td>M</td>\n",
       "      <td>33</td>\n",
       "      <td>167</td>\n",
       "    </tr>\n",
       "    <tr>\n",
       "      <th>4971</th>\n",
       "      <td>M</td>\n",
       "      <td>14</td>\n",
       "      <td>177</td>\n",
       "    </tr>\n",
       "    <tr>\n",
       "      <th>4972</th>\n",
       "      <td>M</td>\n",
       "      <td>36</td>\n",
       "      <td>166</td>\n",
       "    </tr>\n",
       "    <tr>\n",
       "      <th>4973</th>\n",
       "      <td>F</td>\n",
       "      <td>16</td>\n",
       "      <td>153</td>\n",
       "    </tr>\n",
       "    <tr>\n",
       "      <th>4974</th>\n",
       "      <td>F</td>\n",
       "      <td>28</td>\n",
       "      <td>149</td>\n",
       "    </tr>\n",
       "    <tr>\n",
       "      <th>4975</th>\n",
       "      <td>M</td>\n",
       "      <td>57</td>\n",
       "      <td>166</td>\n",
       "    </tr>\n",
       "    <tr>\n",
       "      <th>4976</th>\n",
       "      <td>F</td>\n",
       "      <td>37</td>\n",
       "      <td>160</td>\n",
       "    </tr>\n",
       "    <tr>\n",
       "      <th>4977</th>\n",
       "      <td>M</td>\n",
       "      <td>16</td>\n",
       "      <td>169</td>\n",
       "    </tr>\n",
       "    <tr>\n",
       "      <th>4978</th>\n",
       "      <td>F</td>\n",
       "      <td>54</td>\n",
       "      <td>162</td>\n",
       "    </tr>\n",
       "    <tr>\n",
       "      <th>4980</th>\n",
       "      <td>M</td>\n",
       "      <td>50</td>\n",
       "      <td>163</td>\n",
       "    </tr>\n",
       "    <tr>\n",
       "      <th>4982</th>\n",
       "      <td>F</td>\n",
       "      <td>63</td>\n",
       "      <td>167</td>\n",
       "    </tr>\n",
       "    <tr>\n",
       "      <th>4984</th>\n",
       "      <td>M</td>\n",
       "      <td>20</td>\n",
       "      <td>139</td>\n",
       "    </tr>\n",
       "    <tr>\n",
       "      <th>4985</th>\n",
       "      <td>F</td>\n",
       "      <td>7</td>\n",
       "      <td>153</td>\n",
       "    </tr>\n",
       "    <tr>\n",
       "      <th>4986</th>\n",
       "      <td>M</td>\n",
       "      <td>28</td>\n",
       "      <td>176</td>\n",
       "    </tr>\n",
       "    <tr>\n",
       "      <th>4987</th>\n",
       "      <td>M</td>\n",
       "      <td>34</td>\n",
       "      <td>187</td>\n",
       "    </tr>\n",
       "    <tr>\n",
       "      <th>4988</th>\n",
       "      <td>F</td>\n",
       "      <td>24</td>\n",
       "      <td>165</td>\n",
       "    </tr>\n",
       "    <tr>\n",
       "      <th>4989</th>\n",
       "      <td>M</td>\n",
       "      <td>6</td>\n",
       "      <td>166</td>\n",
       "    </tr>\n",
       "    <tr>\n",
       "      <th>4990</th>\n",
       "      <td>M</td>\n",
       "      <td>25</td>\n",
       "      <td>188</td>\n",
       "    </tr>\n",
       "    <tr>\n",
       "      <th>4991</th>\n",
       "      <td>M</td>\n",
       "      <td>21</td>\n",
       "      <td>161</td>\n",
       "    </tr>\n",
       "    <tr>\n",
       "      <th>4992</th>\n",
       "      <td>M</td>\n",
       "      <td>60</td>\n",
       "      <td>186</td>\n",
       "    </tr>\n",
       "    <tr>\n",
       "      <th>4993</th>\n",
       "      <td>M</td>\n",
       "      <td>34</td>\n",
       "      <td>165</td>\n",
       "    </tr>\n",
       "    <tr>\n",
       "      <th>4994</th>\n",
       "      <td>M</td>\n",
       "      <td>52</td>\n",
       "      <td>178</td>\n",
       "    </tr>\n",
       "    <tr>\n",
       "      <th>4995</th>\n",
       "      <td>F</td>\n",
       "      <td>26</td>\n",
       "      <td>148</td>\n",
       "    </tr>\n",
       "    <tr>\n",
       "      <th>4996</th>\n",
       "      <td>F</td>\n",
       "      <td>23</td>\n",
       "      <td>154</td>\n",
       "    </tr>\n",
       "    <tr>\n",
       "      <th>4997</th>\n",
       "      <td>M</td>\n",
       "      <td>5</td>\n",
       "      <td>195</td>\n",
       "    </tr>\n",
       "    <tr>\n",
       "      <th>4998</th>\n",
       "      <td>F</td>\n",
       "      <td>15</td>\n",
       "      <td>153</td>\n",
       "    </tr>\n",
       "    <tr>\n",
       "      <th>4999</th>\n",
       "      <td>M</td>\n",
       "      <td>31</td>\n",
       "      <td>160</td>\n",
       "    </tr>\n",
       "  </tbody>\n",
       "</table>\n",
       "<p>4751 rows × 3 columns</p>\n",
       "</div>"
      ],
      "text/plain": [
       "     sex  age  height_cm\n",
       "0      M    7        163\n",
       "1      M   52        191\n",
       "2      F   30        153\n",
       "3      F   44        149\n",
       "4      F   53        160\n",
       "5      M    7        160\n",
       "6      F   33        157\n",
       "7      F   34        166\n",
       "8      M   25        185\n",
       "9      M   39        189\n",
       "10     F   37        154\n",
       "12     M   54        180\n",
       "13     M   11        182\n",
       "14     F   16        151\n",
       "15     F   65        161\n",
       "16     F   37        155\n",
       "18     M   44        174\n",
       "20     M   62        182\n",
       "21     F   54        159\n",
       "22     F    9        159\n",
       "23     F   40        161\n",
       "24     M   26        181\n",
       "25     F    1        149\n",
       "26     M   36        149\n",
       "27     F   44        158\n",
       "28     F   36        140\n",
       "30     F   47        170\n",
       "31     F   66        146\n",
       "32     M   39        153\n",
       "33     M   35        171\n",
       "...   ..  ...        ...\n",
       "4967   F   50        141\n",
       "4968   M   79        182\n",
       "4969   F   25        149\n",
       "4970   M   33        167\n",
       "4971   M   14        177\n",
       "4972   M   36        166\n",
       "4973   F   16        153\n",
       "4974   F   28        149\n",
       "4975   M   57        166\n",
       "4976   F   37        160\n",
       "4977   M   16        169\n",
       "4978   F   54        162\n",
       "4980   M   50        163\n",
       "4982   F   63        167\n",
       "4984   M   20        139\n",
       "4985   F    7        153\n",
       "4986   M   28        176\n",
       "4987   M   34        187\n",
       "4988   F   24        165\n",
       "4989   M    6        166\n",
       "4990   M   25        188\n",
       "4991   M   21        161\n",
       "4992   M   60        186\n",
       "4993   M   34        165\n",
       "4994   M   52        178\n",
       "4995   F   26        148\n",
       "4996   F   23        154\n",
       "4997   M    5        195\n",
       "4998   F   15        153\n",
       "4999   M   31        160\n",
       "\n",
       "[4751 rows x 3 columns]"
      ]
     },
     "execution_count": 19,
     "metadata": {},
     "output_type": "execute_result"
    }
   ],
   "source": [
    "def get_height(sex):\n",
    "    loc, scale = (157, 10) if sex == 'F' else (171, 12)\n",
    "    return numpy.random.normal(loc, scale)\n",
    "\n",
    "# casos de prueba\n",
    "# pandas.Series([get_height('F') for _ in range(20)]).mean()\n",
    "# pandas.Series([get_height('M') for _ in range(20)]).mean()\n",
    "\n",
    "new_column = {'height_cm': chilean_people.sex.apply(get_height).astype(int)}\n",
    "# esto es lo mismo\n",
    "# chilean_people = chilean_people.assign(height_cm=chilean_people.sex.apply(get_height).astype(int))\n",
    "chilean_people = chilean_people.assign(**new_column)\n",
    "chilean_people"
   ]
  },
  {
   "cell_type": "markdown",
   "metadata": {},
   "source": [
    "Miremos si es que funcionó..."
   ]
  },
  {
   "cell_type": "code",
   "execution_count": 20,
   "metadata": {
    "collapsed": false
   },
   "outputs": [
    {
     "name": "stdout",
     "output_type": "stream",
     "text": [
      "Mujeres:\n",
      "========\n"
     ]
    },
    {
     "data": {
      "text/plain": [
       "191"
      ]
     },
     "metadata": {},
     "output_type": "display_data"
    },
    {
     "data": {
      "text/plain": [
       "119"
      ]
     },
     "metadata": {},
     "output_type": "display_data"
    },
    {
     "data": {
      "text/plain": [
       "156.21918941273779"
      ]
     },
     "metadata": {},
     "output_type": "display_data"
    },
    {
     "name": "stdout",
     "output_type": "stream",
     "text": [
      "Hombres:\n",
      "========\n"
     ]
    },
    {
     "data": {
      "text/plain": [
       "212"
      ]
     },
     "metadata": {},
     "output_type": "display_data"
    },
    {
     "data": {
      "text/plain": [
       "135"
      ]
     },
     "metadata": {},
     "output_type": "display_data"
    },
    {
     "data": {
      "text/plain": [
       "170.27046720960138"
      ]
     },
     "metadata": {},
     "output_type": "display_data"
    }
   ],
   "source": [
    "print(\"Mujeres:\")\n",
    "print(\"========\")\n",
    "display(chilean_people[chilean_people.sex == 'F'].height_cm.max())\n",
    "display(chilean_people[chilean_people.sex == 'F'].height_cm.min())\n",
    "display(chilean_people[chilean_people.sex == 'F'].height_cm.mean())\n",
    "\n",
    "print(\"Hombres:\")\n",
    "print(\"========\")\n",
    "display(chilean_people[chilean_people.sex == 'M'].height_cm.max())\n",
    "display(chilean_people[chilean_people.sex == 'M'].height_cm.min())\n",
    "display(chilean_people[chilean_people.sex == 'M'].height_cm.mean())"
   ]
  },
  {
   "cell_type": "markdown",
   "metadata": {},
   "source": [
    "Todo en orden."
   ]
  },
  {
   "cell_type": "markdown",
   "metadata": {},
   "source": [
    "Ahora, construyamos algunos gráficos simples para visualizar los datos generados.  \n",
    "Para esto, utilizaremos la librería `matplotlib`."
   ]
  },
  {
   "cell_type": "code",
   "execution_count": 26,
   "metadata": {
    "collapsed": false
   },
   "outputs": [],
   "source": [
    "# esto es para que el gráfico aparezca en el _notebook_.\n",
    "%matplotlib inline\n",
    "import matplotlib.pyplot as plt"
   ]
  },
  {
   "cell_type": "code",
   "execution_count": 66,
   "metadata": {
    "collapsed": false
   },
   "outputs": [
    {
     "data": {
      "text/plain": [
       "103"
      ]
     },
     "execution_count": 66,
     "metadata": {},
     "output_type": "execute_result"
    }
   ],
   "source": [
    "chilean_people.age.value_counts().count()"
   ]
  },
  {
   "cell_type": "code",
   "execution_count": 151,
   "metadata": {
    "collapsed": false
   },
   "outputs": [
    {
     "data": {
      "image/png": "[encoded data removed]",
      "text/plain": [
       "<matplotlib.figure.Figure at 0x7f3339730128>"
      ]
     },
     "metadata": {},
     "output_type": "display_data"
    }
   ],
   "source": [
    "# como primer argumento, entregamos el dataset.\n",
    "# luego, entregamos el número de _bins_,\n",
    "# ya que tenemos casi 5.000 datos;\n",
    "# luego, tenemos que agruparlos en una cierta cantidad de _bins_.\n",
    "BINS = 52\n",
    "# normed sirve para decir si es que queremos el eje y normalizado,\n",
    "# como una distribución de probabilidad.\n",
    "NORMED = True\n",
    "plt.hist(chilean_people.age, bins=BINS, normed=NORMED)\n",
    "plt.xlabel('Edad (años)')\n",
    "plt.ylabel('Probabilidad')\n",
    "plt.grid(True)\n",
    "plt.show()"
   ]
  },
  {
   "cell_type": "code",
   "execution_count": 182,
   "metadata": {
    "collapsed": false
   },
   "outputs": [
    {
     "data": {
      "image/png": "[encoded data removed]",
      "text/plain": [
       "<matplotlib.figure.Figure at 0x7f33391e7780>"
      ]
     },
     "metadata": {},
     "output_type": "display_data"
    }
   ],
   "source": [
    "height = chilean_people.height_cm\n",
    "# en vez de entregarle un entero al número de _bins_,\n",
    "# le daremos una secuencia\n",
    "BINS = numpy.linspace(height.min(), height.max(), 48)\n",
    "plt.hist(height, bins=BINS, color='green')\n",
    "plt.xlabel('Altura (cm)')\n",
    "plt.ylabel('Frecuencia')\n",
    "plt.grid(True)\n",
    "plt.show()"
   ]
  },
  {
   "cell_type": "markdown",
   "metadata": {},
   "source": [
    "Ahora, lo mismo, pero por género."
   ]
  },
  {
   "cell_type": "code",
   "execution_count": 181,
   "metadata": {
    "collapsed": false
   },
   "outputs": [
    {
     "data": {
      "image/png": "[encoded data removed]",
      "text/plain": [
       "<matplotlib.figure.Figure at 0x7f3338449358>"
      ]
     },
     "metadata": {},
     "output_type": "display_data"
    }
   ],
   "source": [
    "height_f = chilean_people[chilean_people.sex == 'F'].height_cm\n",
    "height_m = chilean_people[chilean_people.sex == 'M'].height_cm\n",
    "\n",
    "plt.hist(height_f, bins=BINS, color='pink', alpha=0.90)\n",
    "plt.hist(height_m, bins=BINS, color='blue', alpha=0.70)\n",
    "plt.xlabel('Altura (cm)')\n",
    "plt.ylabel('Frecuencia')\n",
    "plt.grid(True)\n",
    "plt.show()"
   ]
  },
  {
   "cell_type": "markdown",
   "metadata": {},
   "source": [
    "Por último, guardemos este _dataset_ en un archivo CSV."
   ]
  },
  {
   "cell_type": "code",
   "execution_count": 21,
   "metadata": {
    "collapsed": true
   },
   "outputs": [],
   "source": [
    "chilean_people.to_csv('chilean.csv', index=False)"
   ]
  },
  {
   "cell_type": "markdown",
   "metadata": {},
   "source": [
    "Ejercicios:\n",
    "\n",
    "- generar gráficos de edad y altura\n",
    "- histogramas por sexo"
   ]
  },
  {
   "cell_type": "code",
   "execution_count": null,
   "metadata": {
    "collapsed": true
   },
   "outputs": [],
   "source": []
  }
 ],
 "metadata": {
  "kernelspec": {
   "display_name": "Python 3",
   "language": "python",
   "name": "python3"
  },
  "language_info": {
   "codemirror_mode": {
    "name": "ipython",
    "version": 3
   },
   "file_extension": ".py",
   "mimetype": "text/x-python",
   "name": "python",
   "nbconvert_exporter": "python",
   "pygments_lexer": "ipython3",
   "version": "3.4.5"
  }
 },
 "nbformat": 4,
 "nbformat_minor": 1
}
